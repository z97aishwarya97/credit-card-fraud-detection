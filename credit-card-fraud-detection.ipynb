{
 "cells": [
  {
   "cell_type": "markdown",
   "metadata": {},
   "source": [
    "# Data Science Project: Assessment 3"
   ]
  },
  {
   "cell_type": "markdown",
   "metadata": {},
   "source": [
    "ID:201484773\n",
    "\n",
    "Name:Aishwarya Sunderrajan\n",
    "\n",
    "This assessment has a 60% weight."
   ]
  },
  {
   "cell_type": "markdown",
   "metadata": {},
   "source": [
    "## Case study"
   ]
  },
  {
   "cell_type": "markdown",
   "metadata": {},
   "source": [
    "Refer to the brief"
   ]
  },
  {
   "cell_type": "markdown",
   "metadata": {},
   "source": [
    "## 1. Aims, objectives and plan (4 marks)"
   ]
  },
  {
   "cell_type": "markdown",
   "metadata": {},
   "source": [
    "### a) Aims and objectives\n",
    "Although we have already stated what is required, please formally state the aims and objectives of the project in your own words.\n",
    "\n",
    "100-200 words\n",
    "\n",
    "The given dataset contains transaction details of fraudulent and normal transactions. Most attributes have undergone PCA analysis in order to protect confidential details such as credit card number, cvv, expiry date and so on. The aim of this project is to conduct preliminary analysis on the given 'creditcard.csv' dataset to make initial inferences and create a model to analyse the data. The dataset is divided into fraudulent and normal transactions which the model should successfully identify when run on the test set. Two techniques are to be tested and then compared accordingly with the help of performanec metrics.\n",
    "\n",
    "The objectives comprise of the following:\n",
    "1. Perform exploratory analysis on credit card data\n",
    "2. Establish relationships or patterns between various attributes and pre-process the data\n",
    "3. Classify transactions as Fraudulent or Normal using appropriate models and use performace metrics to evaluate the models\n",
    "4. Present findings in a technical report"
   ]
  },
  {
   "attachments": {
    "image.png": {
     "image/png": "[encoded data removed]"
    }
   },
   "cell_type": "markdown",
   "metadata": {},
   "source": [
    "###  b) Plan\n",
    "Please demonstrate how you have conducted the project with a simple Gantt chart.\n",
    "\n",
    "##### Gantt Chart for credit card fraud detection project\n",
    "\n",
    "![image.png](attachment:image.png)"
   ]
  },
  {
   "cell_type": "markdown",
   "metadata": {},
   "source": [
    "## 2. Understanding the case study (4 marks)"
   ]
  },
  {
   "cell_type": "markdown",
   "metadata": {},
   "source": [
    "###  Case study analysis\n",
    "State the key points that you found in the case and how you intend to deal with them appropriately to address the bank's needs. (You can include more than four points.)\n",
    "\n",
    "200-300 words\n",
    "\n",
    "1. The aim is to identify suspicious credit card transactions for further fraud investigation using the given data-set (creditcard.csv). This is to be solved with the use of two models which can successfully predict if a transaction is fraudulent or not. Each record in the data-set contains an indicator which is set to 1 if the transaction is fraudulent or 0 is it is a normal transaction. This is a type of imbalanced binary classification problem where fraudulaent transactions are the positive class.\n",
    "<br>\n",
    "\n",
    "2. Original attributes of the data-set have been transformed using PCA analysis to protect sensitive information such as credit card number, cvv, expiry date, place of transaction, card holder name and so on. This was also done to reduce dimansionality i.e. retain meaningful properties. Only 'Time', 'Amount' and 'Class' have not been transformed.\n",
    "<br> \n",
    "\n",
    "3. The bank's total budget for this project is £1,000,000, therefore the cost of the project, including all mis-classifications should fall within this limit and the goal is to minimze the cost as much as possible.\n",
    "<br>\n",
    "\n",
    "4. If a transaction is predicted to be fraudulent and turns out not to be (false positive), it costs the bank  £1000. A budget of £20,000 is allowed for each £100,000,000 of non-fraudulent transactions. False positives result in poor customer satisfaction ratings.\n",
    "<br>\n",
    "\n",
    "5. If a transaction is fraudulent but is not identified by the model (false negative), it costs the bank £10,000. A budget of £50,000 is allowed for each £200,000 of fraudulent transactions. False negatives result in poor bank reputation and costs them future customers.\n",
    "\n"
   ]
  },
  {
   "cell_type": "markdown",
   "metadata": {},
   "source": [
    "###  Preliminary analysis"
   ]
  },
  {
   "cell_type": "markdown",
   "metadata": {},
   "source": [
    "#### Data loading"
   ]
  },
  {
   "cell_type": "code",
   "execution_count": 1,
   "metadata": {},
   "outputs": [
    {
     "data": {
      "text/html": [
       "<div>\n",
       "<style scoped>\n",
       "    .dataframe tbody tr th:only-of-type {\n",
       "        vertical-align: middle;\n",
       "    }\n",
       "\n",
       "    .dataframe tbody tr th {\n",
       "        vertical-align: top;\n",
       "    }\n",
       "\n",
       "    .dataframe thead th {\n",
       "        text-align: right;\n",
       "    }\n",
       "</style>\n",
       "<table border=\"1\" class=\"dataframe\">\n",
       "  <thead>\n",
       "    <tr style=\"text-align: right;\">\n",
       "      <th></th>\n",
       "      <th>Time</th>\n",
       "      <th>V1</th>\n",
       "      <th>V2</th>\n",
       "      <th>V3</th>\n",
       "      <th>V4</th>\n",
       "      <th>V5</th>\n",
       "      <th>V6</th>\n",
       "      <th>V7</th>\n",
       "      <th>V8</th>\n",
       "      <th>V9</th>\n",
       "      <th>...</th>\n",
       "      <th>V21</th>\n",
       "      <th>V22</th>\n",
       "      <th>V23</th>\n",
       "      <th>V24</th>\n",
       "      <th>V25</th>\n",
       "      <th>V26</th>\n",
       "      <th>V27</th>\n",
       "      <th>V28</th>\n",
       "      <th>Amount</th>\n",
       "      <th>Class</th>\n",
       "    </tr>\n",
       "  </thead>\n",
       "  <tbody>\n",
       "    <tr>\n",
       "      <th>0</th>\n",
       "      <td>0.0</td>\n",
       "      <td>-1.359807</td>\n",
       "      <td>-0.072781</td>\n",
       "      <td>2.536347</td>\n",
       "      <td>1.378155</td>\n",
       "      <td>-0.338321</td>\n",
       "      <td>0.462388</td>\n",
       "      <td>0.239599</td>\n",
       "      <td>0.098698</td>\n",
       "      <td>0.363787</td>\n",
       "      <td>...</td>\n",
       "      <td>-0.018307</td>\n",
       "      <td>0.277838</td>\n",
       "      <td>-0.110474</td>\n",
       "      <td>0.066928</td>\n",
       "      <td>0.128539</td>\n",
       "      <td>-0.189115</td>\n",
       "      <td>0.133558</td>\n",
       "      <td>-0.021053</td>\n",
       "      <td>149.62</td>\n",
       "      <td>0</td>\n",
       "    </tr>\n",
       "    <tr>\n",
       "      <th>1</th>\n",
       "      <td>0.0</td>\n",
       "      <td>1.191857</td>\n",
       "      <td>0.266151</td>\n",
       "      <td>0.166480</td>\n",
       "      <td>0.448154</td>\n",
       "      <td>0.060018</td>\n",
       "      <td>-0.082361</td>\n",
       "      <td>-0.078803</td>\n",
       "      <td>0.085102</td>\n",
       "      <td>-0.255425</td>\n",
       "      <td>...</td>\n",
       "      <td>-0.225775</td>\n",
       "      <td>-0.638672</td>\n",
       "      <td>0.101288</td>\n",
       "      <td>-0.339846</td>\n",
       "      <td>0.167170</td>\n",
       "      <td>0.125895</td>\n",
       "      <td>-0.008983</td>\n",
       "      <td>0.014724</td>\n",
       "      <td>2.69</td>\n",
       "      <td>0</td>\n",
       "    </tr>\n",
       "    <tr>\n",
       "      <th>2</th>\n",
       "      <td>1.0</td>\n",
       "      <td>-1.358354</td>\n",
       "      <td>-1.340163</td>\n",
       "      <td>1.773209</td>\n",
       "      <td>0.379780</td>\n",
       "      <td>-0.503198</td>\n",
       "      <td>1.800499</td>\n",
       "      <td>0.791461</td>\n",
       "      <td>0.247676</td>\n",
       "      <td>-1.514654</td>\n",
       "      <td>...</td>\n",
       "      <td>0.247998</td>\n",
       "      <td>0.771679</td>\n",
       "      <td>0.909412</td>\n",
       "      <td>-0.689281</td>\n",
       "      <td>-0.327642</td>\n",
       "      <td>-0.139097</td>\n",
       "      <td>-0.055353</td>\n",
       "      <td>-0.059752</td>\n",
       "      <td>378.66</td>\n",
       "      <td>0</td>\n",
       "    </tr>\n",
       "    <tr>\n",
       "      <th>3</th>\n",
       "      <td>1.0</td>\n",
       "      <td>-0.966272</td>\n",
       "      <td>-0.185226</td>\n",
       "      <td>1.792993</td>\n",
       "      <td>-0.863291</td>\n",
       "      <td>-0.010309</td>\n",
       "      <td>1.247203</td>\n",
       "      <td>0.237609</td>\n",
       "      <td>0.377436</td>\n",
       "      <td>-1.387024</td>\n",
       "      <td>...</td>\n",
       "      <td>-0.108300</td>\n",
       "      <td>0.005274</td>\n",
       "      <td>-0.190321</td>\n",
       "      <td>-1.175575</td>\n",
       "      <td>0.647376</td>\n",
       "      <td>-0.221929</td>\n",
       "      <td>0.062723</td>\n",
       "      <td>0.061458</td>\n",
       "      <td>123.50</td>\n",
       "      <td>0</td>\n",
       "    </tr>\n",
       "    <tr>\n",
       "      <th>4</th>\n",
       "      <td>2.0</td>\n",
       "      <td>-1.158233</td>\n",
       "      <td>0.877737</td>\n",
       "      <td>1.548718</td>\n",
       "      <td>0.403034</td>\n",
       "      <td>-0.407193</td>\n",
       "      <td>0.095921</td>\n",
       "      <td>0.592941</td>\n",
       "      <td>-0.270533</td>\n",
       "      <td>0.817739</td>\n",
       "      <td>...</td>\n",
       "      <td>-0.009431</td>\n",
       "      <td>0.798278</td>\n",
       "      <td>-0.137458</td>\n",
       "      <td>0.141267</td>\n",
       "      <td>-0.206010</td>\n",
       "      <td>0.502292</td>\n",
       "      <td>0.219422</td>\n",
       "      <td>0.215153</td>\n",
       "      <td>69.99</td>\n",
       "      <td>0</td>\n",
       "    </tr>\n",
       "  </tbody>\n",
       "</table>\n",
       "<p>5 rows × 31 columns</p>\n",
       "</div>"
      ],
      "text/plain": [
       "   Time        V1        V2        V3        V4        V5        V6        V7  \\\n",
       "0   0.0 -1.359807 -0.072781  2.536347  1.378155 -0.338321  0.462388  0.239599   \n",
       "1   0.0  1.191857  0.266151  0.166480  0.448154  0.060018 -0.082361 -0.078803   \n",
       "2   1.0 -1.358354 -1.340163  1.773209  0.379780 -0.503198  1.800499  0.791461   \n",
       "3   1.0 -0.966272 -0.185226  1.792993 -0.863291 -0.010309  1.247203  0.237609   \n",
       "4   2.0 -1.158233  0.877737  1.548718  0.403034 -0.407193  0.095921  0.592941   \n",
       "\n",
       "         V8        V9  ...       V21       V22       V23       V24       V25  \\\n",
       "0  0.098698  0.363787  ... -0.018307  0.277838 -0.110474  0.066928  0.128539   \n",
       "1  0.085102 -0.255425  ... -0.225775 -0.638672  0.101288 -0.339846  0.167170   \n",
       "2  0.247676 -1.514654  ...  0.247998  0.771679  0.909412 -0.689281 -0.327642   \n",
       "3  0.377436 -1.387024  ... -0.108300  0.005274 -0.190321 -1.175575  0.647376   \n",
       "4 -0.270533  0.817739  ... -0.009431  0.798278 -0.137458  0.141267 -0.206010   \n",
       "\n",
       "        V26       V27       V28  Amount  Class  \n",
       "0 -0.189115  0.133558 -0.021053  149.62      0  \n",
       "1  0.125895 -0.008983  0.014724    2.69      0  \n",
       "2 -0.139097 -0.055353 -0.059752  378.66      0  \n",
       "3 -0.221929  0.062723  0.061458  123.50      0  \n",
       "4  0.502292  0.219422  0.215153   69.99      0  \n",
       "\n",
       "[5 rows x 31 columns]"
      ]
     },
     "execution_count": 1,
     "metadata": {},
     "output_type": "execute_result"
    }
   ],
   "source": [
    "import pandas as pd\n",
    "import matplotlib.pyplot as plt\n",
    "import sklearn\n",
    "import numpy as np\n",
    "\n",
    "#DATA LOADING\n",
    "cdf = pd.read_csv('creditcard.csv')\n",
    "cdf.head()"
   ]
  },
  {
   "cell_type": "code",
   "execution_count": 2,
   "metadata": {},
   "outputs": [
    {
     "name": "stdout",
     "output_type": "stream",
     "text": [
      "<class 'pandas.core.frame.DataFrame'>\n",
      "RangeIndex: 284807 entries, 0 to 284806\n",
      "Data columns (total 31 columns):\n",
      " #   Column  Non-Null Count   Dtype  \n",
      "---  ------  --------------   -----  \n",
      " 0   Time    284807 non-null  float64\n",
      " 1   V1      284807 non-null  float64\n",
      " 2   V2      284807 non-null  float64\n",
      " 3   V3      284807 non-null  float64\n",
      " 4   V4      284807 non-null  float64\n",
      " 5   V5      284807 non-null  float64\n",
      " 6   V6      284807 non-null  float64\n",
      " 7   V7      284807 non-null  float64\n",
      " 8   V8      284807 non-null  float64\n",
      " 9   V9      284807 non-null  float64\n",
      " 10  V10     284807 non-null  float64\n",
      " 11  V11     284807 non-null  float64\n",
      " 12  V12     284807 non-null  float64\n",
      " 13  V13     284807 non-null  float64\n",
      " 14  V14     284807 non-null  float64\n",
      " 15  V15     284807 non-null  float64\n",
      " 16  V16     284807 non-null  float64\n",
      " 17  V17     284807 non-null  float64\n",
      " 18  V18     284807 non-null  float64\n",
      " 19  V19     284807 non-null  float64\n",
      " 20  V20     284807 non-null  float64\n",
      " 21  V21     284807 non-null  float64\n",
      " 22  V22     284807 non-null  float64\n",
      " 23  V23     284807 non-null  float64\n",
      " 24  V24     284807 non-null  float64\n",
      " 25  V25     284807 non-null  float64\n",
      " 26  V26     284807 non-null  float64\n",
      " 27  V27     284807 non-null  float64\n",
      " 28  V28     284807 non-null  float64\n",
      " 29  Amount  284807 non-null  float64\n",
      " 30  Class   284807 non-null  int64  \n",
      "dtypes: float64(30), int64(1)\n",
      "memory usage: 67.4 MB\n"
     ]
    }
   ],
   "source": [
    "#CHECK DATA TYPE\n",
    "cdf.info()"
   ]
  },
  {
   "cell_type": "markdown",
   "metadata": {},
   "source": [
    "#### Checking for missing values"
   ]
  },
  {
   "cell_type": "code",
   "execution_count": 3,
   "metadata": {},
   "outputs": [
    {
     "data": {
      "text/plain": [
       "Time      0\n",
       "V1        0\n",
       "V2        0\n",
       "V3        0\n",
       "V4        0\n",
       "V5        0\n",
       "V6        0\n",
       "V7        0\n",
       "V8        0\n",
       "V9        0\n",
       "V10       0\n",
       "V11       0\n",
       "V12       0\n",
       "V13       0\n",
       "V14       0\n",
       "V15       0\n",
       "V16       0\n",
       "V17       0\n",
       "V18       0\n",
       "V19       0\n",
       "V20       0\n",
       "V21       0\n",
       "V22       0\n",
       "V23       0\n",
       "V24       0\n",
       "V25       0\n",
       "V26       0\n",
       "V27       0\n",
       "V28       0\n",
       "Amount    0\n",
       "Class     0\n",
       "dtype: int64"
      ]
     },
     "execution_count": 3,
     "metadata": {},
     "output_type": "execute_result"
    }
   ],
   "source": [
    "#CHECK FOR MISSING VALUES\n",
    "cdf.isnull().sum()"
   ]
  },
  {
   "cell_type": "markdown",
   "metadata": {},
   "source": [
    "#### Statistical analysis of data"
   ]
  },
  {
   "cell_type": "code",
   "execution_count": 4,
   "metadata": {},
   "outputs": [
    {
     "data": {
      "text/html": [
       "<div>\n",
       "<style scoped>\n",
       "    .dataframe tbody tr th:only-of-type {\n",
       "        vertical-align: middle;\n",
       "    }\n",
       "\n",
       "    .dataframe tbody tr th {\n",
       "        vertical-align: top;\n",
       "    }\n",
       "\n",
       "    .dataframe thead th {\n",
       "        text-align: right;\n",
       "    }\n",
       "</style>\n",
       "<table border=\"1\" class=\"dataframe\">\n",
       "  <thead>\n",
       "    <tr style=\"text-align: right;\">\n",
       "      <th></th>\n",
       "      <th>Time</th>\n",
       "      <th>V1</th>\n",
       "      <th>V2</th>\n",
       "      <th>V3</th>\n",
       "      <th>V4</th>\n",
       "      <th>V5</th>\n",
       "      <th>V6</th>\n",
       "      <th>V7</th>\n",
       "      <th>V8</th>\n",
       "      <th>V9</th>\n",
       "      <th>...</th>\n",
       "      <th>V21</th>\n",
       "      <th>V22</th>\n",
       "      <th>V23</th>\n",
       "      <th>V24</th>\n",
       "      <th>V25</th>\n",
       "      <th>V26</th>\n",
       "      <th>V27</th>\n",
       "      <th>V28</th>\n",
       "      <th>Amount</th>\n",
       "      <th>Class</th>\n",
       "    </tr>\n",
       "  </thead>\n",
       "  <tbody>\n",
       "    <tr>\n",
       "      <th>count</th>\n",
       "      <td>284807.000000</td>\n",
       "      <td>2.848070e+05</td>\n",
       "      <td>2.848070e+05</td>\n",
       "      <td>2.848070e+05</td>\n",
       "      <td>2.848070e+05</td>\n",
       "      <td>2.848070e+05</td>\n",
       "      <td>2.848070e+05</td>\n",
       "      <td>2.848070e+05</td>\n",
       "      <td>2.848070e+05</td>\n",
       "      <td>2.848070e+05</td>\n",
       "      <td>...</td>\n",
       "      <td>2.848070e+05</td>\n",
       "      <td>2.848070e+05</td>\n",
       "      <td>2.848070e+05</td>\n",
       "      <td>2.848070e+05</td>\n",
       "      <td>2.848070e+05</td>\n",
       "      <td>2.848070e+05</td>\n",
       "      <td>2.848070e+05</td>\n",
       "      <td>2.848070e+05</td>\n",
       "      <td>284807.000000</td>\n",
       "      <td>284807.000000</td>\n",
       "    </tr>\n",
       "    <tr>\n",
       "      <th>mean</th>\n",
       "      <td>94813.859575</td>\n",
       "      <td>1.758702e-12</td>\n",
       "      <td>-8.252296e-13</td>\n",
       "      <td>-9.637438e-13</td>\n",
       "      <td>8.316234e-13</td>\n",
       "      <td>1.592013e-13</td>\n",
       "      <td>4.247308e-13</td>\n",
       "      <td>-3.050183e-13</td>\n",
       "      <td>8.692882e-14</td>\n",
       "      <td>-1.179710e-12</td>\n",
       "      <td>...</td>\n",
       "      <td>-3.406538e-13</td>\n",
       "      <td>-5.713357e-13</td>\n",
       "      <td>-9.725290e-13</td>\n",
       "      <td>1.464144e-12</td>\n",
       "      <td>-6.989090e-13</td>\n",
       "      <td>-5.615254e-13</td>\n",
       "      <td>3.332111e-12</td>\n",
       "      <td>-3.518885e-12</td>\n",
       "      <td>88.349619</td>\n",
       "      <td>0.001727</td>\n",
       "    </tr>\n",
       "    <tr>\n",
       "      <th>std</th>\n",
       "      <td>47488.145955</td>\n",
       "      <td>1.958696e+00</td>\n",
       "      <td>1.651309e+00</td>\n",
       "      <td>1.516255e+00</td>\n",
       "      <td>1.415869e+00</td>\n",
       "      <td>1.380247e+00</td>\n",
       "      <td>1.332271e+00</td>\n",
       "      <td>1.237094e+00</td>\n",
       "      <td>1.194353e+00</td>\n",
       "      <td>1.098632e+00</td>\n",
       "      <td>...</td>\n",
       "      <td>7.345240e-01</td>\n",
       "      <td>7.257016e-01</td>\n",
       "      <td>6.244603e-01</td>\n",
       "      <td>6.056471e-01</td>\n",
       "      <td>5.212781e-01</td>\n",
       "      <td>4.822270e-01</td>\n",
       "      <td>4.036325e-01</td>\n",
       "      <td>3.300833e-01</td>\n",
       "      <td>250.120109</td>\n",
       "      <td>0.041527</td>\n",
       "    </tr>\n",
       "    <tr>\n",
       "      <th>min</th>\n",
       "      <td>0.000000</td>\n",
       "      <td>-5.640751e+01</td>\n",
       "      <td>-7.271573e+01</td>\n",
       "      <td>-4.832559e+01</td>\n",
       "      <td>-5.683171e+00</td>\n",
       "      <td>-1.137433e+02</td>\n",
       "      <td>-2.616051e+01</td>\n",
       "      <td>-4.355724e+01</td>\n",
       "      <td>-7.321672e+01</td>\n",
       "      <td>-1.343407e+01</td>\n",
       "      <td>...</td>\n",
       "      <td>-3.483038e+01</td>\n",
       "      <td>-1.093314e+01</td>\n",
       "      <td>-4.480774e+01</td>\n",
       "      <td>-2.836627e+00</td>\n",
       "      <td>-1.029540e+01</td>\n",
       "      <td>-2.604551e+00</td>\n",
       "      <td>-2.256568e+01</td>\n",
       "      <td>-1.543008e+01</td>\n",
       "      <td>0.000000</td>\n",
       "      <td>0.000000</td>\n",
       "    </tr>\n",
       "    <tr>\n",
       "      <th>25%</th>\n",
       "      <td>54201.500000</td>\n",
       "      <td>-9.203734e-01</td>\n",
       "      <td>-5.985499e-01</td>\n",
       "      <td>-8.903648e-01</td>\n",
       "      <td>-8.486401e-01</td>\n",
       "      <td>-6.915971e-01</td>\n",
       "      <td>-7.682956e-01</td>\n",
       "      <td>-5.540759e-01</td>\n",
       "      <td>-2.086297e-01</td>\n",
       "      <td>-6.430976e-01</td>\n",
       "      <td>...</td>\n",
       "      <td>-2.283949e-01</td>\n",
       "      <td>-5.423504e-01</td>\n",
       "      <td>-1.618463e-01</td>\n",
       "      <td>-3.545861e-01</td>\n",
       "      <td>-3.171451e-01</td>\n",
       "      <td>-3.269839e-01</td>\n",
       "      <td>-7.083953e-02</td>\n",
       "      <td>-5.295979e-02</td>\n",
       "      <td>5.600000</td>\n",
       "      <td>0.000000</td>\n",
       "    </tr>\n",
       "    <tr>\n",
       "      <th>50%</th>\n",
       "      <td>84692.000000</td>\n",
       "      <td>1.810880e-02</td>\n",
       "      <td>6.548556e-02</td>\n",
       "      <td>1.798463e-01</td>\n",
       "      <td>-1.984653e-02</td>\n",
       "      <td>-5.433583e-02</td>\n",
       "      <td>-2.741871e-01</td>\n",
       "      <td>4.010308e-02</td>\n",
       "      <td>2.235804e-02</td>\n",
       "      <td>-5.142873e-02</td>\n",
       "      <td>...</td>\n",
       "      <td>-2.945017e-02</td>\n",
       "      <td>6.781943e-03</td>\n",
       "      <td>-1.119293e-02</td>\n",
       "      <td>4.097606e-02</td>\n",
       "      <td>1.659350e-02</td>\n",
       "      <td>-5.213911e-02</td>\n",
       "      <td>1.342146e-03</td>\n",
       "      <td>1.124383e-02</td>\n",
       "      <td>22.000000</td>\n",
       "      <td>0.000000</td>\n",
       "    </tr>\n",
       "    <tr>\n",
       "      <th>75%</th>\n",
       "      <td>139320.500000</td>\n",
       "      <td>1.315642e+00</td>\n",
       "      <td>8.037239e-01</td>\n",
       "      <td>1.027196e+00</td>\n",
       "      <td>7.433413e-01</td>\n",
       "      <td>6.119264e-01</td>\n",
       "      <td>3.985649e-01</td>\n",
       "      <td>5.704361e-01</td>\n",
       "      <td>3.273459e-01</td>\n",
       "      <td>5.971390e-01</td>\n",
       "      <td>...</td>\n",
       "      <td>1.863772e-01</td>\n",
       "      <td>5.285536e-01</td>\n",
       "      <td>1.476421e-01</td>\n",
       "      <td>4.395266e-01</td>\n",
       "      <td>3.507156e-01</td>\n",
       "      <td>2.409522e-01</td>\n",
       "      <td>9.104512e-02</td>\n",
       "      <td>7.827995e-02</td>\n",
       "      <td>77.165000</td>\n",
       "      <td>0.000000</td>\n",
       "    </tr>\n",
       "    <tr>\n",
       "      <th>max</th>\n",
       "      <td>172792.000000</td>\n",
       "      <td>2.454930e+00</td>\n",
       "      <td>2.205773e+01</td>\n",
       "      <td>9.382558e+00</td>\n",
       "      <td>1.687534e+01</td>\n",
       "      <td>3.480167e+01</td>\n",
       "      <td>7.330163e+01</td>\n",
       "      <td>1.205895e+02</td>\n",
       "      <td>2.000721e+01</td>\n",
       "      <td>1.559499e+01</td>\n",
       "      <td>...</td>\n",
       "      <td>2.720284e+01</td>\n",
       "      <td>1.050309e+01</td>\n",
       "      <td>2.252841e+01</td>\n",
       "      <td>4.584549e+00</td>\n",
       "      <td>7.519589e+00</td>\n",
       "      <td>3.517346e+00</td>\n",
       "      <td>3.161220e+01</td>\n",
       "      <td>3.384781e+01</td>\n",
       "      <td>25691.160000</td>\n",
       "      <td>1.000000</td>\n",
       "    </tr>\n",
       "  </tbody>\n",
       "</table>\n",
       "<p>8 rows × 31 columns</p>\n",
       "</div>"
      ],
      "text/plain": [
       "                Time            V1            V2            V3            V4  \\\n",
       "count  284807.000000  2.848070e+05  2.848070e+05  2.848070e+05  2.848070e+05   \n",
       "mean    94813.859575  1.758702e-12 -8.252296e-13 -9.637438e-13  8.316234e-13   \n",
       "std     47488.145955  1.958696e+00  1.651309e+00  1.516255e+00  1.415869e+00   \n",
       "min         0.000000 -5.640751e+01 -7.271573e+01 -4.832559e+01 -5.683171e+00   \n",
       "25%     54201.500000 -9.203734e-01 -5.985499e-01 -8.903648e-01 -8.486401e-01   \n",
       "50%     84692.000000  1.810880e-02  6.548556e-02  1.798463e-01 -1.984653e-02   \n",
       "75%    139320.500000  1.315642e+00  8.037239e-01  1.027196e+00  7.433413e-01   \n",
       "max    172792.000000  2.454930e+00  2.205773e+01  9.382558e+00  1.687534e+01   \n",
       "\n",
       "                 V5            V6            V7            V8            V9  \\\n",
       "count  2.848070e+05  2.848070e+05  2.848070e+05  2.848070e+05  2.848070e+05   \n",
       "mean   1.592013e-13  4.247308e-13 -3.050183e-13  8.692882e-14 -1.179710e-12   \n",
       "std    1.380247e+00  1.332271e+00  1.237094e+00  1.194353e+00  1.098632e+00   \n",
       "min   -1.137433e+02 -2.616051e+01 -4.355724e+01 -7.321672e+01 -1.343407e+01   \n",
       "25%   -6.915971e-01 -7.682956e-01 -5.540759e-01 -2.086297e-01 -6.430976e-01   \n",
       "50%   -5.433583e-02 -2.741871e-01  4.010308e-02  2.235804e-02 -5.142873e-02   \n",
       "75%    6.119264e-01  3.985649e-01  5.704361e-01  3.273459e-01  5.971390e-01   \n",
       "max    3.480167e+01  7.330163e+01  1.205895e+02  2.000721e+01  1.559499e+01   \n",
       "\n",
       "       ...           V21           V22           V23           V24  \\\n",
       "count  ...  2.848070e+05  2.848070e+05  2.848070e+05  2.848070e+05   \n",
       "mean   ... -3.406538e-13 -5.713357e-13 -9.725290e-13  1.464144e-12   \n",
       "std    ...  7.345240e-01  7.257016e-01  6.244603e-01  6.056471e-01   \n",
       "min    ... -3.483038e+01 -1.093314e+01 -4.480774e+01 -2.836627e+00   \n",
       "25%    ... -2.283949e-01 -5.423504e-01 -1.618463e-01 -3.545861e-01   \n",
       "50%    ... -2.945017e-02  6.781943e-03 -1.119293e-02  4.097606e-02   \n",
       "75%    ...  1.863772e-01  5.285536e-01  1.476421e-01  4.395266e-01   \n",
       "max    ...  2.720284e+01  1.050309e+01  2.252841e+01  4.584549e+00   \n",
       "\n",
       "                V25           V26           V27           V28         Amount  \\\n",
       "count  2.848070e+05  2.848070e+05  2.848070e+05  2.848070e+05  284807.000000   \n",
       "mean  -6.989090e-13 -5.615254e-13  3.332111e-12 -3.518885e-12      88.349619   \n",
       "std    5.212781e-01  4.822270e-01  4.036325e-01  3.300833e-01     250.120109   \n",
       "min   -1.029540e+01 -2.604551e+00 -2.256568e+01 -1.543008e+01       0.000000   \n",
       "25%   -3.171451e-01 -3.269839e-01 -7.083953e-02 -5.295979e-02       5.600000   \n",
       "50%    1.659350e-02 -5.213911e-02  1.342146e-03  1.124383e-02      22.000000   \n",
       "75%    3.507156e-01  2.409522e-01  9.104512e-02  7.827995e-02      77.165000   \n",
       "max    7.519589e+00  3.517346e+00  3.161220e+01  3.384781e+01   25691.160000   \n",
       "\n",
       "               Class  \n",
       "count  284807.000000  \n",
       "mean        0.001727  \n",
       "std         0.041527  \n",
       "min         0.000000  \n",
       "25%         0.000000  \n",
       "50%         0.000000  \n",
       "75%         0.000000  \n",
       "max         1.000000  \n",
       "\n",
       "[8 rows x 31 columns]"
      ]
     },
     "execution_count": 4,
     "metadata": {},
     "output_type": "execute_result"
    }
   ],
   "source": [
    "#PRELIMINARY CALCULATIONS\n",
    "cdf.describe()"
   ]
  },
  {
   "cell_type": "markdown",
   "metadata": {},
   "source": [
    "#### Checking if dataset is balanced"
   ]
  },
  {
   "cell_type": "code",
   "execution_count": 5,
   "metadata": {},
   "outputs": [
    {
     "name": "stdout",
     "output_type": "stream",
     "text": [
      "fraudulent transactions comprises of 0.1727 % of total data\n",
      "normal transactions comprises of 99.8273 % of total data\n",
      "The dataset is imbalanced as there would be more legitimate transactions compared to fraudulent ones. This makes detection more difficult\n"
     ]
    },
    {
     "data": {
      "image/png": "[encoded data removed]",
      "text/plain": [
       "<Figure size 432x288 with 1 Axes>"
      ]
     },
     "metadata": {
      "needs_background": "light"
     },
     "output_type": "display_data"
    }
   ],
   "source": [
    "#CHECK IF DATASET IS BALANCED\n",
    "fraud = dict(cdf['Class'].value_counts())\n",
    "fraud['normal'] = fraud.pop(0)\n",
    "fraud['fraudulent'] = fraud.pop(1)\n",
    "labels, values = list(fraud.keys()), list(fraud.values())\n",
    "\n",
    "plt.bar(labels, values)\n",
    "res = values[0] + values[1]\n",
    "per_fraud = values[1] / res\n",
    "per_norm = values[0] / res\n",
    "\n",
    "print('fraudulent transactions comprises of', 100*round(per_fraud, 6),'%', 'of total data')\n",
    "print('normal transactions comprises of', 100*round(per_norm, 6),'%', 'of total data')\n",
    "\n",
    "if per_fraud != per_norm:\n",
    "    print('The dataset is imbalanced as there would be more legitimate transactions compared to fraudulent ones. This makes detection more difficult')"
   ]
  },
  {
   "cell_type": "markdown",
   "metadata": {},
   "source": [
    "From the above analysis we can infer the following:\n",
    "- fraudulent transactions comprises of 0.1727 % of total data\n",
    "- normal transactions comprises of 99.8273 % of total data\n",
    "\n",
    "The dataset is highly imbalanced with more normal transactions that fraudulent transaction. This makes detection of fraud more difficult"
   ]
  },
  {
   "cell_type": "markdown",
   "metadata": {},
   "source": [
    "#### Statistical analysis of fraud and normal transactions"
   ]
  },
  {
   "cell_type": "code",
   "execution_count": 6,
   "metadata": {},
   "outputs": [
    {
     "data": {
      "text/html": [
       "<div>\n",
       "<style scoped>\n",
       "    .dataframe tbody tr th:only-of-type {\n",
       "        vertical-align: middle;\n",
       "    }\n",
       "\n",
       "    .dataframe tbody tr th {\n",
       "        vertical-align: top;\n",
       "    }\n",
       "\n",
       "    .dataframe thead th {\n",
       "        text-align: right;\n",
       "    }\n",
       "</style>\n",
       "<table border=\"1\" class=\"dataframe\">\n",
       "  <thead>\n",
       "    <tr style=\"text-align: right;\">\n",
       "      <th></th>\n",
       "      <th>feature</th>\n",
       "      <th>count</th>\n",
       "      <th>mean</th>\n",
       "      <th>std</th>\n",
       "      <th>min</th>\n",
       "      <th>25%</th>\n",
       "      <th>50%</th>\n",
       "      <th>75%</th>\n",
       "      <th>max</th>\n",
       "    </tr>\n",
       "  </thead>\n",
       "  <tbody>\n",
       "    <tr>\n",
       "      <th>0</th>\n",
       "      <td>Time</td>\n",
       "      <td>492.0</td>\n",
       "      <td>80746.807</td>\n",
       "      <td>47835.365</td>\n",
       "      <td>406.000</td>\n",
       "      <td>41241.500</td>\n",
       "      <td>75568.500</td>\n",
       "      <td>128483.000</td>\n",
       "      <td>170348.000</td>\n",
       "    </tr>\n",
       "    <tr>\n",
       "      <th>1</th>\n",
       "      <td>V1</td>\n",
       "      <td>492.0</td>\n",
       "      <td>-4.772</td>\n",
       "      <td>6.784</td>\n",
       "      <td>-30.552</td>\n",
       "      <td>-6.036</td>\n",
       "      <td>-2.342</td>\n",
       "      <td>-0.419</td>\n",
       "      <td>2.132</td>\n",
       "    </tr>\n",
       "    <tr>\n",
       "      <th>2</th>\n",
       "      <td>V2</td>\n",
       "      <td>492.0</td>\n",
       "      <td>3.624</td>\n",
       "      <td>4.291</td>\n",
       "      <td>-8.402</td>\n",
       "      <td>1.188</td>\n",
       "      <td>2.718</td>\n",
       "      <td>4.971</td>\n",
       "      <td>22.058</td>\n",
       "    </tr>\n",
       "    <tr>\n",
       "      <th>3</th>\n",
       "      <td>V3</td>\n",
       "      <td>492.0</td>\n",
       "      <td>-7.033</td>\n",
       "      <td>7.111</td>\n",
       "      <td>-31.104</td>\n",
       "      <td>-8.643</td>\n",
       "      <td>-5.075</td>\n",
       "      <td>-2.276</td>\n",
       "      <td>2.250</td>\n",
       "    </tr>\n",
       "    <tr>\n",
       "      <th>4</th>\n",
       "      <td>V4</td>\n",
       "      <td>492.0</td>\n",
       "      <td>4.542</td>\n",
       "      <td>2.873</td>\n",
       "      <td>-1.313</td>\n",
       "      <td>2.373</td>\n",
       "      <td>4.177</td>\n",
       "      <td>6.349</td>\n",
       "      <td>12.115</td>\n",
       "    </tr>\n",
       "    <tr>\n",
       "      <th>5</th>\n",
       "      <td>V5</td>\n",
       "      <td>492.0</td>\n",
       "      <td>-3.151</td>\n",
       "      <td>5.372</td>\n",
       "      <td>-22.106</td>\n",
       "      <td>-4.793</td>\n",
       "      <td>-1.523</td>\n",
       "      <td>0.215</td>\n",
       "      <td>11.095</td>\n",
       "    </tr>\n",
       "    <tr>\n",
       "      <th>6</th>\n",
       "      <td>V6</td>\n",
       "      <td>492.0</td>\n",
       "      <td>-1.398</td>\n",
       "      <td>1.858</td>\n",
       "      <td>-6.406</td>\n",
       "      <td>-2.502</td>\n",
       "      <td>-1.425</td>\n",
       "      <td>-0.413</td>\n",
       "      <td>6.474</td>\n",
       "    </tr>\n",
       "    <tr>\n",
       "      <th>7</th>\n",
       "      <td>V7</td>\n",
       "      <td>492.0</td>\n",
       "      <td>-5.569</td>\n",
       "      <td>7.207</td>\n",
       "      <td>-43.557</td>\n",
       "      <td>-7.965</td>\n",
       "      <td>-3.034</td>\n",
       "      <td>-0.946</td>\n",
       "      <td>5.803</td>\n",
       "    </tr>\n",
       "    <tr>\n",
       "      <th>8</th>\n",
       "      <td>V8</td>\n",
       "      <td>492.0</td>\n",
       "      <td>0.571</td>\n",
       "      <td>6.798</td>\n",
       "      <td>-41.044</td>\n",
       "      <td>-0.195</td>\n",
       "      <td>0.622</td>\n",
       "      <td>1.765</td>\n",
       "      <td>20.007</td>\n",
       "    </tr>\n",
       "    <tr>\n",
       "      <th>9</th>\n",
       "      <td>V9</td>\n",
       "      <td>492.0</td>\n",
       "      <td>-2.581</td>\n",
       "      <td>2.501</td>\n",
       "      <td>-13.434</td>\n",
       "      <td>-3.872</td>\n",
       "      <td>-2.209</td>\n",
       "      <td>-0.788</td>\n",
       "      <td>3.354</td>\n",
       "    </tr>\n",
       "    <tr>\n",
       "      <th>10</th>\n",
       "      <td>V10</td>\n",
       "      <td>492.0</td>\n",
       "      <td>-5.677</td>\n",
       "      <td>4.897</td>\n",
       "      <td>-24.588</td>\n",
       "      <td>-7.757</td>\n",
       "      <td>-4.579</td>\n",
       "      <td>-2.614</td>\n",
       "      <td>4.031</td>\n",
       "    </tr>\n",
       "    <tr>\n",
       "      <th>11</th>\n",
       "      <td>V11</td>\n",
       "      <td>492.0</td>\n",
       "      <td>3.800</td>\n",
       "      <td>2.679</td>\n",
       "      <td>-1.702</td>\n",
       "      <td>1.973</td>\n",
       "      <td>3.586</td>\n",
       "      <td>5.307</td>\n",
       "      <td>12.019</td>\n",
       "    </tr>\n",
       "    <tr>\n",
       "      <th>12</th>\n",
       "      <td>V12</td>\n",
       "      <td>492.0</td>\n",
       "      <td>-6.259</td>\n",
       "      <td>4.654</td>\n",
       "      <td>-18.684</td>\n",
       "      <td>-8.688</td>\n",
       "      <td>-5.503</td>\n",
       "      <td>-2.974</td>\n",
       "      <td>1.376</td>\n",
       "    </tr>\n",
       "    <tr>\n",
       "      <th>13</th>\n",
       "      <td>V13</td>\n",
       "      <td>492.0</td>\n",
       "      <td>-0.109</td>\n",
       "      <td>1.105</td>\n",
       "      <td>-3.128</td>\n",
       "      <td>-0.979</td>\n",
       "      <td>-0.066</td>\n",
       "      <td>0.673</td>\n",
       "      <td>2.815</td>\n",
       "    </tr>\n",
       "    <tr>\n",
       "      <th>14</th>\n",
       "      <td>V14</td>\n",
       "      <td>492.0</td>\n",
       "      <td>-6.972</td>\n",
       "      <td>4.279</td>\n",
       "      <td>-19.214</td>\n",
       "      <td>-9.693</td>\n",
       "      <td>-6.730</td>\n",
       "      <td>-4.283</td>\n",
       "      <td>3.442</td>\n",
       "    </tr>\n",
       "    <tr>\n",
       "      <th>15</th>\n",
       "      <td>V15</td>\n",
       "      <td>492.0</td>\n",
       "      <td>-0.093</td>\n",
       "      <td>1.050</td>\n",
       "      <td>-4.499</td>\n",
       "      <td>-0.644</td>\n",
       "      <td>-0.057</td>\n",
       "      <td>0.609</td>\n",
       "      <td>2.471</td>\n",
       "    </tr>\n",
       "    <tr>\n",
       "      <th>16</th>\n",
       "      <td>V16</td>\n",
       "      <td>492.0</td>\n",
       "      <td>-4.140</td>\n",
       "      <td>3.865</td>\n",
       "      <td>-14.130</td>\n",
       "      <td>-6.563</td>\n",
       "      <td>-3.550</td>\n",
       "      <td>-1.226</td>\n",
       "      <td>3.140</td>\n",
       "    </tr>\n",
       "    <tr>\n",
       "      <th>17</th>\n",
       "      <td>V17</td>\n",
       "      <td>492.0</td>\n",
       "      <td>-6.666</td>\n",
       "      <td>6.971</td>\n",
       "      <td>-25.163</td>\n",
       "      <td>-11.945</td>\n",
       "      <td>-5.303</td>\n",
       "      <td>-1.342</td>\n",
       "      <td>6.739</td>\n",
       "    </tr>\n",
       "    <tr>\n",
       "      <th>18</th>\n",
       "      <td>V18</td>\n",
       "      <td>492.0</td>\n",
       "      <td>-2.246</td>\n",
       "      <td>2.899</td>\n",
       "      <td>-9.499</td>\n",
       "      <td>-4.665</td>\n",
       "      <td>-1.664</td>\n",
       "      <td>0.092</td>\n",
       "      <td>3.790</td>\n",
       "    </tr>\n",
       "    <tr>\n",
       "      <th>19</th>\n",
       "      <td>V19</td>\n",
       "      <td>492.0</td>\n",
       "      <td>0.681</td>\n",
       "      <td>1.540</td>\n",
       "      <td>-3.682</td>\n",
       "      <td>-0.299</td>\n",
       "      <td>0.647</td>\n",
       "      <td>1.649</td>\n",
       "      <td>5.228</td>\n",
       "    </tr>\n",
       "    <tr>\n",
       "      <th>20</th>\n",
       "      <td>V20</td>\n",
       "      <td>492.0</td>\n",
       "      <td>0.372</td>\n",
       "      <td>1.347</td>\n",
       "      <td>-4.128</td>\n",
       "      <td>-0.172</td>\n",
       "      <td>0.285</td>\n",
       "      <td>0.822</td>\n",
       "      <td>11.059</td>\n",
       "    </tr>\n",
       "    <tr>\n",
       "      <th>21</th>\n",
       "      <td>V21</td>\n",
       "      <td>492.0</td>\n",
       "      <td>0.714</td>\n",
       "      <td>3.869</td>\n",
       "      <td>-22.798</td>\n",
       "      <td>0.042</td>\n",
       "      <td>0.592</td>\n",
       "      <td>1.245</td>\n",
       "      <td>27.203</td>\n",
       "    </tr>\n",
       "    <tr>\n",
       "      <th>22</th>\n",
       "      <td>V22</td>\n",
       "      <td>492.0</td>\n",
       "      <td>0.014</td>\n",
       "      <td>1.495</td>\n",
       "      <td>-8.887</td>\n",
       "      <td>-0.534</td>\n",
       "      <td>0.048</td>\n",
       "      <td>0.617</td>\n",
       "      <td>8.362</td>\n",
       "    </tr>\n",
       "    <tr>\n",
       "      <th>23</th>\n",
       "      <td>V23</td>\n",
       "      <td>492.0</td>\n",
       "      <td>-0.040</td>\n",
       "      <td>1.580</td>\n",
       "      <td>-19.254</td>\n",
       "      <td>-0.342</td>\n",
       "      <td>-0.073</td>\n",
       "      <td>0.308</td>\n",
       "      <td>5.466</td>\n",
       "    </tr>\n",
       "    <tr>\n",
       "      <th>24</th>\n",
       "      <td>V24</td>\n",
       "      <td>492.0</td>\n",
       "      <td>-0.105</td>\n",
       "      <td>0.516</td>\n",
       "      <td>-2.028</td>\n",
       "      <td>-0.437</td>\n",
       "      <td>-0.061</td>\n",
       "      <td>0.285</td>\n",
       "      <td>1.091</td>\n",
       "    </tr>\n",
       "    <tr>\n",
       "      <th>25</th>\n",
       "      <td>V25</td>\n",
       "      <td>492.0</td>\n",
       "      <td>0.041</td>\n",
       "      <td>0.797</td>\n",
       "      <td>-4.782</td>\n",
       "      <td>-0.314</td>\n",
       "      <td>0.088</td>\n",
       "      <td>0.457</td>\n",
       "      <td>2.208</td>\n",
       "    </tr>\n",
       "    <tr>\n",
       "      <th>26</th>\n",
       "      <td>V26</td>\n",
       "      <td>492.0</td>\n",
       "      <td>0.052</td>\n",
       "      <td>0.472</td>\n",
       "      <td>-1.153</td>\n",
       "      <td>-0.259</td>\n",
       "      <td>0.004</td>\n",
       "      <td>0.397</td>\n",
       "      <td>2.745</td>\n",
       "    </tr>\n",
       "    <tr>\n",
       "      <th>27</th>\n",
       "      <td>V27</td>\n",
       "      <td>492.0</td>\n",
       "      <td>0.171</td>\n",
       "      <td>1.377</td>\n",
       "      <td>-7.263</td>\n",
       "      <td>-0.020</td>\n",
       "      <td>0.395</td>\n",
       "      <td>0.826</td>\n",
       "      <td>3.052</td>\n",
       "    </tr>\n",
       "    <tr>\n",
       "      <th>28</th>\n",
       "      <td>V28</td>\n",
       "      <td>492.0</td>\n",
       "      <td>0.076</td>\n",
       "      <td>0.547</td>\n",
       "      <td>-1.869</td>\n",
       "      <td>-0.109</td>\n",
       "      <td>0.146</td>\n",
       "      <td>0.381</td>\n",
       "      <td>1.779</td>\n",
       "    </tr>\n",
       "    <tr>\n",
       "      <th>29</th>\n",
       "      <td>Amount</td>\n",
       "      <td>492.0</td>\n",
       "      <td>122.211</td>\n",
       "      <td>256.683</td>\n",
       "      <td>0.000</td>\n",
       "      <td>1.000</td>\n",
       "      <td>9.250</td>\n",
       "      <td>105.890</td>\n",
       "      <td>2125.870</td>\n",
       "    </tr>\n",
       "    <tr>\n",
       "      <th>30</th>\n",
       "      <td>Class</td>\n",
       "      <td>492.0</td>\n",
       "      <td>1.000</td>\n",
       "      <td>0.000</td>\n",
       "      <td>1.000</td>\n",
       "      <td>1.000</td>\n",
       "      <td>1.000</td>\n",
       "      <td>1.000</td>\n",
       "      <td>1.000</td>\n",
       "    </tr>\n",
       "  </tbody>\n",
       "</table>\n",
       "</div>"
      ],
      "text/plain": [
       "   feature  count       mean        std      min        25%        50%  \\\n",
       "0     Time  492.0  80746.807  47835.365  406.000  41241.500  75568.500   \n",
       "1       V1  492.0     -4.772      6.784  -30.552     -6.036     -2.342   \n",
       "2       V2  492.0      3.624      4.291   -8.402      1.188      2.718   \n",
       "3       V3  492.0     -7.033      7.111  -31.104     -8.643     -5.075   \n",
       "4       V4  492.0      4.542      2.873   -1.313      2.373      4.177   \n",
       "5       V5  492.0     -3.151      5.372  -22.106     -4.793     -1.523   \n",
       "6       V6  492.0     -1.398      1.858   -6.406     -2.502     -1.425   \n",
       "7       V7  492.0     -5.569      7.207  -43.557     -7.965     -3.034   \n",
       "8       V8  492.0      0.571      6.798  -41.044     -0.195      0.622   \n",
       "9       V9  492.0     -2.581      2.501  -13.434     -3.872     -2.209   \n",
       "10     V10  492.0     -5.677      4.897  -24.588     -7.757     -4.579   \n",
       "11     V11  492.0      3.800      2.679   -1.702      1.973      3.586   \n",
       "12     V12  492.0     -6.259      4.654  -18.684     -8.688     -5.503   \n",
       "13     V13  492.0     -0.109      1.105   -3.128     -0.979     -0.066   \n",
       "14     V14  492.0     -6.972      4.279  -19.214     -9.693     -6.730   \n",
       "15     V15  492.0     -0.093      1.050   -4.499     -0.644     -0.057   \n",
       "16     V16  492.0     -4.140      3.865  -14.130     -6.563     -3.550   \n",
       "17     V17  492.0     -6.666      6.971  -25.163    -11.945     -5.303   \n",
       "18     V18  492.0     -2.246      2.899   -9.499     -4.665     -1.664   \n",
       "19     V19  492.0      0.681      1.540   -3.682     -0.299      0.647   \n",
       "20     V20  492.0      0.372      1.347   -4.128     -0.172      0.285   \n",
       "21     V21  492.0      0.714      3.869  -22.798      0.042      0.592   \n",
       "22     V22  492.0      0.014      1.495   -8.887     -0.534      0.048   \n",
       "23     V23  492.0     -0.040      1.580  -19.254     -0.342     -0.073   \n",
       "24     V24  492.0     -0.105      0.516   -2.028     -0.437     -0.061   \n",
       "25     V25  492.0      0.041      0.797   -4.782     -0.314      0.088   \n",
       "26     V26  492.0      0.052      0.472   -1.153     -0.259      0.004   \n",
       "27     V27  492.0      0.171      1.377   -7.263     -0.020      0.395   \n",
       "28     V28  492.0      0.076      0.547   -1.869     -0.109      0.146   \n",
       "29  Amount  492.0    122.211    256.683    0.000      1.000      9.250   \n",
       "30   Class  492.0      1.000      0.000    1.000      1.000      1.000   \n",
       "\n",
       "           75%         max  \n",
       "0   128483.000  170348.000  \n",
       "1       -0.419       2.132  \n",
       "2        4.971      22.058  \n",
       "3       -2.276       2.250  \n",
       "4        6.349      12.115  \n",
       "5        0.215      11.095  \n",
       "6       -0.413       6.474  \n",
       "7       -0.946       5.803  \n",
       "8        1.765      20.007  \n",
       "9       -0.788       3.354  \n",
       "10      -2.614       4.031  \n",
       "11       5.307      12.019  \n",
       "12      -2.974       1.376  \n",
       "13       0.673       2.815  \n",
       "14      -4.283       3.442  \n",
       "15       0.609       2.471  \n",
       "16      -1.226       3.140  \n",
       "17      -1.342       6.739  \n",
       "18       0.092       3.790  \n",
       "19       1.649       5.228  \n",
       "20       0.822      11.059  \n",
       "21       1.245      27.203  \n",
       "22       0.617       8.362  \n",
       "23       0.308       5.466  \n",
       "24       0.285       1.091  \n",
       "25       0.457       2.208  \n",
       "26       0.397       2.745  \n",
       "27       0.826       3.052  \n",
       "28       0.381       1.779  \n",
       "29     105.890    2125.870  \n",
       "30       1.000       1.000  "
      ]
     },
     "execution_count": 6,
     "metadata": {},
     "output_type": "execute_result"
    }
   ],
   "source": [
    "# Descriptive statistics of  of frauds transactions\n",
    "summary = (cdf[cdf['Class'] == 1].describe().transpose().reset_index())\n",
    "\n",
    "summary = summary.rename(columns = {\"index\" : \"feature\"})\n",
    "summary = np.around(summary,3)\n",
    "summary"
   ]
  },
  {
   "cell_type": "code",
   "execution_count": 7,
   "metadata": {},
   "outputs": [
    {
     "data": {
      "text/html": [
       "<div>\n",
       "<style scoped>\n",
       "    .dataframe tbody tr th:only-of-type {\n",
       "        vertical-align: middle;\n",
       "    }\n",
       "\n",
       "    .dataframe tbody tr th {\n",
       "        vertical-align: top;\n",
       "    }\n",
       "\n",
       "    .dataframe thead th {\n",
       "        text-align: right;\n",
       "    }\n",
       "</style>\n",
       "<table border=\"1\" class=\"dataframe\">\n",
       "  <thead>\n",
       "    <tr style=\"text-align: right;\">\n",
       "      <th></th>\n",
       "      <th>feature</th>\n",
       "      <th>count</th>\n",
       "      <th>mean</th>\n",
       "      <th>std</th>\n",
       "      <th>min</th>\n",
       "      <th>25%</th>\n",
       "      <th>50%</th>\n",
       "      <th>75%</th>\n",
       "      <th>max</th>\n",
       "    </tr>\n",
       "  </thead>\n",
       "  <tbody>\n",
       "    <tr>\n",
       "      <th>0</th>\n",
       "      <td>Time</td>\n",
       "      <td>284315.0</td>\n",
       "      <td>94838.202</td>\n",
       "      <td>47484.016</td>\n",
       "      <td>0.000</td>\n",
       "      <td>54230.000</td>\n",
       "      <td>84711.000</td>\n",
       "      <td>139333.000</td>\n",
       "      <td>172792.000</td>\n",
       "    </tr>\n",
       "    <tr>\n",
       "      <th>1</th>\n",
       "      <td>V1</td>\n",
       "      <td>284315.0</td>\n",
       "      <td>0.008</td>\n",
       "      <td>1.930</td>\n",
       "      <td>-56.408</td>\n",
       "      <td>-0.918</td>\n",
       "      <td>0.020</td>\n",
       "      <td>1.316</td>\n",
       "      <td>2.455</td>\n",
       "    </tr>\n",
       "    <tr>\n",
       "      <th>2</th>\n",
       "      <td>V2</td>\n",
       "      <td>284315.0</td>\n",
       "      <td>-0.006</td>\n",
       "      <td>1.636</td>\n",
       "      <td>-72.716</td>\n",
       "      <td>-0.599</td>\n",
       "      <td>0.064</td>\n",
       "      <td>0.800</td>\n",
       "      <td>18.902</td>\n",
       "    </tr>\n",
       "    <tr>\n",
       "      <th>3</th>\n",
       "      <td>V3</td>\n",
       "      <td>284315.0</td>\n",
       "      <td>0.012</td>\n",
       "      <td>1.459</td>\n",
       "      <td>-48.326</td>\n",
       "      <td>-0.885</td>\n",
       "      <td>0.182</td>\n",
       "      <td>1.028</td>\n",
       "      <td>9.383</td>\n",
       "    </tr>\n",
       "    <tr>\n",
       "      <th>4</th>\n",
       "      <td>V4</td>\n",
       "      <td>284315.0</td>\n",
       "      <td>-0.008</td>\n",
       "      <td>1.399</td>\n",
       "      <td>-5.683</td>\n",
       "      <td>-0.850</td>\n",
       "      <td>-0.022</td>\n",
       "      <td>0.738</td>\n",
       "      <td>16.875</td>\n",
       "    </tr>\n",
       "    <tr>\n",
       "      <th>5</th>\n",
       "      <td>V5</td>\n",
       "      <td>284315.0</td>\n",
       "      <td>0.005</td>\n",
       "      <td>1.357</td>\n",
       "      <td>-113.743</td>\n",
       "      <td>-0.689</td>\n",
       "      <td>-0.053</td>\n",
       "      <td>0.612</td>\n",
       "      <td>34.802</td>\n",
       "    </tr>\n",
       "    <tr>\n",
       "      <th>6</th>\n",
       "      <td>V6</td>\n",
       "      <td>284315.0</td>\n",
       "      <td>0.002</td>\n",
       "      <td>1.330</td>\n",
       "      <td>-26.161</td>\n",
       "      <td>-0.767</td>\n",
       "      <td>-0.273</td>\n",
       "      <td>0.400</td>\n",
       "      <td>73.302</td>\n",
       "    </tr>\n",
       "    <tr>\n",
       "      <th>7</th>\n",
       "      <td>V7</td>\n",
       "      <td>284315.0</td>\n",
       "      <td>0.010</td>\n",
       "      <td>1.179</td>\n",
       "      <td>-31.765</td>\n",
       "      <td>-0.551</td>\n",
       "      <td>0.041</td>\n",
       "      <td>0.571</td>\n",
       "      <td>120.589</td>\n",
       "    </tr>\n",
       "    <tr>\n",
       "      <th>8</th>\n",
       "      <td>V8</td>\n",
       "      <td>284315.0</td>\n",
       "      <td>-0.001</td>\n",
       "      <td>1.161</td>\n",
       "      <td>-73.217</td>\n",
       "      <td>-0.209</td>\n",
       "      <td>0.022</td>\n",
       "      <td>0.326</td>\n",
       "      <td>18.709</td>\n",
       "    </tr>\n",
       "    <tr>\n",
       "      <th>9</th>\n",
       "      <td>V9</td>\n",
       "      <td>284315.0</td>\n",
       "      <td>0.004</td>\n",
       "      <td>1.089</td>\n",
       "      <td>-6.291</td>\n",
       "      <td>-0.640</td>\n",
       "      <td>-0.050</td>\n",
       "      <td>0.598</td>\n",
       "      <td>15.595</td>\n",
       "    </tr>\n",
       "    <tr>\n",
       "      <th>10</th>\n",
       "      <td>V10</td>\n",
       "      <td>284315.0</td>\n",
       "      <td>0.010</td>\n",
       "      <td>1.044</td>\n",
       "      <td>-14.741</td>\n",
       "      <td>-0.533</td>\n",
       "      <td>-0.092</td>\n",
       "      <td>0.455</td>\n",
       "      <td>23.745</td>\n",
       "    </tr>\n",
       "    <tr>\n",
       "      <th>11</th>\n",
       "      <td>V11</td>\n",
       "      <td>284315.0</td>\n",
       "      <td>-0.007</td>\n",
       "      <td>1.003</td>\n",
       "      <td>-4.797</td>\n",
       "      <td>-0.763</td>\n",
       "      <td>-0.035</td>\n",
       "      <td>0.736</td>\n",
       "      <td>10.002</td>\n",
       "    </tr>\n",
       "    <tr>\n",
       "      <th>12</th>\n",
       "      <td>V12</td>\n",
       "      <td>284315.0</td>\n",
       "      <td>0.011</td>\n",
       "      <td>0.946</td>\n",
       "      <td>-15.145</td>\n",
       "      <td>-0.402</td>\n",
       "      <td>0.142</td>\n",
       "      <td>0.619</td>\n",
       "      <td>7.848</td>\n",
       "    </tr>\n",
       "    <tr>\n",
       "      <th>13</th>\n",
       "      <td>V13</td>\n",
       "      <td>284315.0</td>\n",
       "      <td>0.000</td>\n",
       "      <td>0.995</td>\n",
       "      <td>-5.792</td>\n",
       "      <td>-0.648</td>\n",
       "      <td>-0.014</td>\n",
       "      <td>0.662</td>\n",
       "      <td>7.127</td>\n",
       "    </tr>\n",
       "    <tr>\n",
       "      <th>14</th>\n",
       "      <td>V14</td>\n",
       "      <td>284315.0</td>\n",
       "      <td>0.012</td>\n",
       "      <td>0.897</td>\n",
       "      <td>-18.392</td>\n",
       "      <td>-0.422</td>\n",
       "      <td>0.052</td>\n",
       "      <td>0.494</td>\n",
       "      <td>10.527</td>\n",
       "    </tr>\n",
       "    <tr>\n",
       "      <th>15</th>\n",
       "      <td>V15</td>\n",
       "      <td>284315.0</td>\n",
       "      <td>0.000</td>\n",
       "      <td>0.915</td>\n",
       "      <td>-4.391</td>\n",
       "      <td>-0.583</td>\n",
       "      <td>0.048</td>\n",
       "      <td>0.649</td>\n",
       "      <td>8.878</td>\n",
       "    </tr>\n",
       "    <tr>\n",
       "      <th>16</th>\n",
       "      <td>V16</td>\n",
       "      <td>284315.0</td>\n",
       "      <td>0.007</td>\n",
       "      <td>0.845</td>\n",
       "      <td>-10.116</td>\n",
       "      <td>-0.466</td>\n",
       "      <td>0.067</td>\n",
       "      <td>0.524</td>\n",
       "      <td>17.315</td>\n",
       "    </tr>\n",
       "    <tr>\n",
       "      <th>17</th>\n",
       "      <td>V17</td>\n",
       "      <td>284315.0</td>\n",
       "      <td>0.012</td>\n",
       "      <td>0.749</td>\n",
       "      <td>-17.098</td>\n",
       "      <td>-0.483</td>\n",
       "      <td>-0.065</td>\n",
       "      <td>0.400</td>\n",
       "      <td>9.254</td>\n",
       "    </tr>\n",
       "    <tr>\n",
       "      <th>18</th>\n",
       "      <td>V18</td>\n",
       "      <td>284315.0</td>\n",
       "      <td>0.004</td>\n",
       "      <td>0.825</td>\n",
       "      <td>-5.367</td>\n",
       "      <td>-0.497</td>\n",
       "      <td>-0.003</td>\n",
       "      <td>0.501</td>\n",
       "      <td>5.041</td>\n",
       "    </tr>\n",
       "    <tr>\n",
       "      <th>19</th>\n",
       "      <td>V19</td>\n",
       "      <td>284315.0</td>\n",
       "      <td>-0.001</td>\n",
       "      <td>0.812</td>\n",
       "      <td>-7.214</td>\n",
       "      <td>-0.456</td>\n",
       "      <td>0.003</td>\n",
       "      <td>0.457</td>\n",
       "      <td>5.592</td>\n",
       "    </tr>\n",
       "    <tr>\n",
       "      <th>20</th>\n",
       "      <td>V20</td>\n",
       "      <td>284315.0</td>\n",
       "      <td>-0.001</td>\n",
       "      <td>0.769</td>\n",
       "      <td>-54.498</td>\n",
       "      <td>-0.212</td>\n",
       "      <td>-0.063</td>\n",
       "      <td>0.132</td>\n",
       "      <td>39.421</td>\n",
       "    </tr>\n",
       "    <tr>\n",
       "      <th>21</th>\n",
       "      <td>V21</td>\n",
       "      <td>284315.0</td>\n",
       "      <td>-0.001</td>\n",
       "      <td>0.717</td>\n",
       "      <td>-34.830</td>\n",
       "      <td>-0.229</td>\n",
       "      <td>-0.030</td>\n",
       "      <td>0.186</td>\n",
       "      <td>22.615</td>\n",
       "    </tr>\n",
       "    <tr>\n",
       "      <th>22</th>\n",
       "      <td>V22</td>\n",
       "      <td>284315.0</td>\n",
       "      <td>-0.000</td>\n",
       "      <td>0.724</td>\n",
       "      <td>-10.933</td>\n",
       "      <td>-0.542</td>\n",
       "      <td>0.007</td>\n",
       "      <td>0.528</td>\n",
       "      <td>10.503</td>\n",
       "    </tr>\n",
       "    <tr>\n",
       "      <th>23</th>\n",
       "      <td>V23</td>\n",
       "      <td>284315.0</td>\n",
       "      <td>0.000</td>\n",
       "      <td>0.622</td>\n",
       "      <td>-44.808</td>\n",
       "      <td>-0.162</td>\n",
       "      <td>-0.011</td>\n",
       "      <td>0.148</td>\n",
       "      <td>22.528</td>\n",
       "    </tr>\n",
       "    <tr>\n",
       "      <th>24</th>\n",
       "      <td>V24</td>\n",
       "      <td>284315.0</td>\n",
       "      <td>0.000</td>\n",
       "      <td>0.606</td>\n",
       "      <td>-2.837</td>\n",
       "      <td>-0.354</td>\n",
       "      <td>0.041</td>\n",
       "      <td>0.440</td>\n",
       "      <td>4.585</td>\n",
       "    </tr>\n",
       "    <tr>\n",
       "      <th>25</th>\n",
       "      <td>V25</td>\n",
       "      <td>284315.0</td>\n",
       "      <td>-0.000</td>\n",
       "      <td>0.521</td>\n",
       "      <td>-10.295</td>\n",
       "      <td>-0.317</td>\n",
       "      <td>0.016</td>\n",
       "      <td>0.351</td>\n",
       "      <td>7.520</td>\n",
       "    </tr>\n",
       "    <tr>\n",
       "      <th>26</th>\n",
       "      <td>V26</td>\n",
       "      <td>284315.0</td>\n",
       "      <td>-0.000</td>\n",
       "      <td>0.482</td>\n",
       "      <td>-2.605</td>\n",
       "      <td>-0.327</td>\n",
       "      <td>-0.052</td>\n",
       "      <td>0.241</td>\n",
       "      <td>3.517</td>\n",
       "    </tr>\n",
       "    <tr>\n",
       "      <th>27</th>\n",
       "      <td>V27</td>\n",
       "      <td>284315.0</td>\n",
       "      <td>-0.000</td>\n",
       "      <td>0.400</td>\n",
       "      <td>-22.566</td>\n",
       "      <td>-0.071</td>\n",
       "      <td>0.001</td>\n",
       "      <td>0.091</td>\n",
       "      <td>31.612</td>\n",
       "    </tr>\n",
       "    <tr>\n",
       "      <th>28</th>\n",
       "      <td>V28</td>\n",
       "      <td>284315.0</td>\n",
       "      <td>-0.000</td>\n",
       "      <td>0.330</td>\n",
       "      <td>-15.430</td>\n",
       "      <td>-0.053</td>\n",
       "      <td>0.011</td>\n",
       "      <td>0.078</td>\n",
       "      <td>33.848</td>\n",
       "    </tr>\n",
       "    <tr>\n",
       "      <th>29</th>\n",
       "      <td>Amount</td>\n",
       "      <td>284315.0</td>\n",
       "      <td>88.291</td>\n",
       "      <td>250.105</td>\n",
       "      <td>0.000</td>\n",
       "      <td>5.650</td>\n",
       "      <td>22.000</td>\n",
       "      <td>77.050</td>\n",
       "      <td>25691.160</td>\n",
       "    </tr>\n",
       "    <tr>\n",
       "      <th>30</th>\n",
       "      <td>Class</td>\n",
       "      <td>284315.0</td>\n",
       "      <td>0.000</td>\n",
       "      <td>0.000</td>\n",
       "      <td>0.000</td>\n",
       "      <td>0.000</td>\n",
       "      <td>0.000</td>\n",
       "      <td>0.000</td>\n",
       "      <td>0.000</td>\n",
       "    </tr>\n",
       "  </tbody>\n",
       "</table>\n",
       "</div>"
      ],
      "text/plain": [
       "   feature     count       mean        std      min        25%        50%  \\\n",
       "0     Time  284315.0  94838.202  47484.016    0.000  54230.000  84711.000   \n",
       "1       V1  284315.0      0.008      1.930  -56.408     -0.918      0.020   \n",
       "2       V2  284315.0     -0.006      1.636  -72.716     -0.599      0.064   \n",
       "3       V3  284315.0      0.012      1.459  -48.326     -0.885      0.182   \n",
       "4       V4  284315.0     -0.008      1.399   -5.683     -0.850     -0.022   \n",
       "5       V5  284315.0      0.005      1.357 -113.743     -0.689     -0.053   \n",
       "6       V6  284315.0      0.002      1.330  -26.161     -0.767     -0.273   \n",
       "7       V7  284315.0      0.010      1.179  -31.765     -0.551      0.041   \n",
       "8       V8  284315.0     -0.001      1.161  -73.217     -0.209      0.022   \n",
       "9       V9  284315.0      0.004      1.089   -6.291     -0.640     -0.050   \n",
       "10     V10  284315.0      0.010      1.044  -14.741     -0.533     -0.092   \n",
       "11     V11  284315.0     -0.007      1.003   -4.797     -0.763     -0.035   \n",
       "12     V12  284315.0      0.011      0.946  -15.145     -0.402      0.142   \n",
       "13     V13  284315.0      0.000      0.995   -5.792     -0.648     -0.014   \n",
       "14     V14  284315.0      0.012      0.897  -18.392     -0.422      0.052   \n",
       "15     V15  284315.0      0.000      0.915   -4.391     -0.583      0.048   \n",
       "16     V16  284315.0      0.007      0.845  -10.116     -0.466      0.067   \n",
       "17     V17  284315.0      0.012      0.749  -17.098     -0.483     -0.065   \n",
       "18     V18  284315.0      0.004      0.825   -5.367     -0.497     -0.003   \n",
       "19     V19  284315.0     -0.001      0.812   -7.214     -0.456      0.003   \n",
       "20     V20  284315.0     -0.001      0.769  -54.498     -0.212     -0.063   \n",
       "21     V21  284315.0     -0.001      0.717  -34.830     -0.229     -0.030   \n",
       "22     V22  284315.0     -0.000      0.724  -10.933     -0.542      0.007   \n",
       "23     V23  284315.0      0.000      0.622  -44.808     -0.162     -0.011   \n",
       "24     V24  284315.0      0.000      0.606   -2.837     -0.354      0.041   \n",
       "25     V25  284315.0     -0.000      0.521  -10.295     -0.317      0.016   \n",
       "26     V26  284315.0     -0.000      0.482   -2.605     -0.327     -0.052   \n",
       "27     V27  284315.0     -0.000      0.400  -22.566     -0.071      0.001   \n",
       "28     V28  284315.0     -0.000      0.330  -15.430     -0.053      0.011   \n",
       "29  Amount  284315.0     88.291    250.105    0.000      5.650     22.000   \n",
       "30   Class  284315.0      0.000      0.000    0.000      0.000      0.000   \n",
       "\n",
       "           75%         max  \n",
       "0   139333.000  172792.000  \n",
       "1        1.316       2.455  \n",
       "2        0.800      18.902  \n",
       "3        1.028       9.383  \n",
       "4        0.738      16.875  \n",
       "5        0.612      34.802  \n",
       "6        0.400      73.302  \n",
       "7        0.571     120.589  \n",
       "8        0.326      18.709  \n",
       "9        0.598      15.595  \n",
       "10       0.455      23.745  \n",
       "11       0.736      10.002  \n",
       "12       0.619       7.848  \n",
       "13       0.662       7.127  \n",
       "14       0.494      10.527  \n",
       "15       0.649       8.878  \n",
       "16       0.524      17.315  \n",
       "17       0.400       9.254  \n",
       "18       0.501       5.041  \n",
       "19       0.457       5.592  \n",
       "20       0.132      39.421  \n",
       "21       0.186      22.615  \n",
       "22       0.528      10.503  \n",
       "23       0.148      22.528  \n",
       "24       0.440       4.585  \n",
       "25       0.351       7.520  \n",
       "26       0.241       3.517  \n",
       "27       0.091      31.612  \n",
       "28       0.078      33.848  \n",
       "29      77.050   25691.160  \n",
       "30       0.000       0.000  "
      ]
     },
     "execution_count": 7,
     "metadata": {},
     "output_type": "execute_result"
    }
   ],
   "source": [
    "# Descriptive statistics of geniune transactions\n",
    "summary = (cdf[cdf['Class'] == 0].describe().transpose().reset_index())\n",
    "\n",
    "summary = summary.rename(columns = {\"index\" : \"feature\"})\n",
    "summary = np.around(summary,3)\n",
    "summary"
   ]
  },
  {
   "cell_type": "markdown",
   "metadata": {},
   "source": [
    "Fraudulent transactions: \n",
    "mean = 122 and standard deviation is 256\n",
    "max = 2125 and min = 0\n",
    "\n",
    "Normal transactions: \n",
    "mean = 88 and starndard deviation is 250\n",
    "max = 25691 and min = 0"
   ]
  },
  {
   "cell_type": "code",
   "execution_count": 8,
   "metadata": {
    "scrolled": true
   },
   "outputs": [
    {
     "data": {
      "text/plain": [
       "1.00     113\n",
       "0.00      27\n",
       "99.99     27\n",
       "0.76      17\n",
       "0.77      10\n",
       "0.01       5\n",
       "3.79       4\n",
       "2.00       4\n",
       "12.31      3\n",
       "1.18       3\n",
       "Name: Amount, dtype: int64"
      ]
     },
     "execution_count": 8,
     "metadata": {},
     "output_type": "execute_result"
    }
   ],
   "source": [
    "#Amount frequency for fraudulent transactions\n",
    "cdf[(cdf['Class']==1)]['Amount'].value_counts().head(10)"
   ]
  },
  {
   "cell_type": "markdown",
   "metadata": {},
   "source": [
    "There are 113 fraud transactions for one pound and 27 for 99.99 pounds.\n",
    "There are 27 fraud transactions for zero pounds, these could be a part of a default procedure used by companies to verify card holders without charge."
   ]
  },
  {
   "cell_type": "markdown",
   "metadata": {},
   "source": [
    "#### Checking for duplicates"
   ]
  },
  {
   "cell_type": "code",
   "execution_count": 9,
   "metadata": {},
   "outputs": [
    {
     "data": {
      "text/html": [
       "<div>\n",
       "<style scoped>\n",
       "    .dataframe tbody tr th:only-of-type {\n",
       "        vertical-align: middle;\n",
       "    }\n",
       "\n",
       "    .dataframe tbody tr th {\n",
       "        vertical-align: top;\n",
       "    }\n",
       "\n",
       "    .dataframe thead th {\n",
       "        text-align: right;\n",
       "    }\n",
       "</style>\n",
       "<table border=\"1\" class=\"dataframe\">\n",
       "  <thead>\n",
       "    <tr style=\"text-align: right;\">\n",
       "      <th></th>\n",
       "      <th>Time</th>\n",
       "      <th>V1</th>\n",
       "      <th>V2</th>\n",
       "      <th>V3</th>\n",
       "      <th>V4</th>\n",
       "      <th>V5</th>\n",
       "      <th>V6</th>\n",
       "      <th>V7</th>\n",
       "      <th>V8</th>\n",
       "      <th>V9</th>\n",
       "      <th>...</th>\n",
       "      <th>V21</th>\n",
       "      <th>V22</th>\n",
       "      <th>V23</th>\n",
       "      <th>V24</th>\n",
       "      <th>V25</th>\n",
       "      <th>V26</th>\n",
       "      <th>V27</th>\n",
       "      <th>V28</th>\n",
       "      <th>Amount</th>\n",
       "      <th>Class</th>\n",
       "    </tr>\n",
       "  </thead>\n",
       "  <tbody>\n",
       "    <tr>\n",
       "      <th>33</th>\n",
       "      <td>26.0</td>\n",
       "      <td>-0.529912</td>\n",
       "      <td>0.873892</td>\n",
       "      <td>1.347247</td>\n",
       "      <td>0.145457</td>\n",
       "      <td>0.414209</td>\n",
       "      <td>0.100223</td>\n",
       "      <td>0.711206</td>\n",
       "      <td>0.176066</td>\n",
       "      <td>-0.286717</td>\n",
       "      <td>...</td>\n",
       "      <td>0.046949</td>\n",
       "      <td>0.208105</td>\n",
       "      <td>-0.185548</td>\n",
       "      <td>0.001031</td>\n",
       "      <td>0.098816</td>\n",
       "      <td>-0.552904</td>\n",
       "      <td>-0.073288</td>\n",
       "      <td>0.023307</td>\n",
       "      <td>6.14</td>\n",
       "      <td>0</td>\n",
       "    </tr>\n",
       "    <tr>\n",
       "      <th>35</th>\n",
       "      <td>26.0</td>\n",
       "      <td>-0.535388</td>\n",
       "      <td>0.865268</td>\n",
       "      <td>1.351076</td>\n",
       "      <td>0.147575</td>\n",
       "      <td>0.433680</td>\n",
       "      <td>0.086983</td>\n",
       "      <td>0.693039</td>\n",
       "      <td>0.179742</td>\n",
       "      <td>-0.285642</td>\n",
       "      <td>...</td>\n",
       "      <td>0.049526</td>\n",
       "      <td>0.206537</td>\n",
       "      <td>-0.187108</td>\n",
       "      <td>0.000753</td>\n",
       "      <td>0.098117</td>\n",
       "      <td>-0.553471</td>\n",
       "      <td>-0.078306</td>\n",
       "      <td>0.025427</td>\n",
       "      <td>1.77</td>\n",
       "      <td>0</td>\n",
       "    </tr>\n",
       "    <tr>\n",
       "      <th>113</th>\n",
       "      <td>74.0</td>\n",
       "      <td>1.038370</td>\n",
       "      <td>0.127486</td>\n",
       "      <td>0.184456</td>\n",
       "      <td>1.109950</td>\n",
       "      <td>0.441699</td>\n",
       "      <td>0.945283</td>\n",
       "      <td>-0.036715</td>\n",
       "      <td>0.350995</td>\n",
       "      <td>0.118950</td>\n",
       "      <td>...</td>\n",
       "      <td>0.102520</td>\n",
       "      <td>0.605089</td>\n",
       "      <td>0.023092</td>\n",
       "      <td>-0.626463</td>\n",
       "      <td>0.479120</td>\n",
       "      <td>-0.166937</td>\n",
       "      <td>0.081247</td>\n",
       "      <td>0.001192</td>\n",
       "      <td>1.18</td>\n",
       "      <td>0</td>\n",
       "    </tr>\n",
       "    <tr>\n",
       "      <th>114</th>\n",
       "      <td>74.0</td>\n",
       "      <td>1.038370</td>\n",
       "      <td>0.127486</td>\n",
       "      <td>0.184456</td>\n",
       "      <td>1.109950</td>\n",
       "      <td>0.441699</td>\n",
       "      <td>0.945283</td>\n",
       "      <td>-0.036715</td>\n",
       "      <td>0.350995</td>\n",
       "      <td>0.118950</td>\n",
       "      <td>...</td>\n",
       "      <td>0.102520</td>\n",
       "      <td>0.605089</td>\n",
       "      <td>0.023092</td>\n",
       "      <td>-0.626463</td>\n",
       "      <td>0.479120</td>\n",
       "      <td>-0.166937</td>\n",
       "      <td>0.081247</td>\n",
       "      <td>0.001192</td>\n",
       "      <td>1.18</td>\n",
       "      <td>0</td>\n",
       "    </tr>\n",
       "    <tr>\n",
       "      <th>115</th>\n",
       "      <td>74.0</td>\n",
       "      <td>1.038370</td>\n",
       "      <td>0.127486</td>\n",
       "      <td>0.184456</td>\n",
       "      <td>1.109950</td>\n",
       "      <td>0.441699</td>\n",
       "      <td>0.945283</td>\n",
       "      <td>-0.036715</td>\n",
       "      <td>0.350995</td>\n",
       "      <td>0.118950</td>\n",
       "      <td>...</td>\n",
       "      <td>0.102520</td>\n",
       "      <td>0.605089</td>\n",
       "      <td>0.023092</td>\n",
       "      <td>-0.626463</td>\n",
       "      <td>0.479120</td>\n",
       "      <td>-0.166937</td>\n",
       "      <td>0.081247</td>\n",
       "      <td>0.001192</td>\n",
       "      <td>1.18</td>\n",
       "      <td>0</td>\n",
       "    </tr>\n",
       "    <tr>\n",
       "      <th>...</th>\n",
       "      <td>...</td>\n",
       "      <td>...</td>\n",
       "      <td>...</td>\n",
       "      <td>...</td>\n",
       "      <td>...</td>\n",
       "      <td>...</td>\n",
       "      <td>...</td>\n",
       "      <td>...</td>\n",
       "      <td>...</td>\n",
       "      <td>...</td>\n",
       "      <td>...</td>\n",
       "      <td>...</td>\n",
       "      <td>...</td>\n",
       "      <td>...</td>\n",
       "      <td>...</td>\n",
       "      <td>...</td>\n",
       "      <td>...</td>\n",
       "      <td>...</td>\n",
       "      <td>...</td>\n",
       "      <td>...</td>\n",
       "      <td>...</td>\n",
       "    </tr>\n",
       "    <tr>\n",
       "      <th>282987</th>\n",
       "      <td>171288.0</td>\n",
       "      <td>1.912550</td>\n",
       "      <td>-0.455240</td>\n",
       "      <td>-1.750654</td>\n",
       "      <td>0.454324</td>\n",
       "      <td>2.089130</td>\n",
       "      <td>4.160019</td>\n",
       "      <td>-0.881302</td>\n",
       "      <td>1.081750</td>\n",
       "      <td>1.022928</td>\n",
       "      <td>...</td>\n",
       "      <td>-0.524067</td>\n",
       "      <td>-1.337510</td>\n",
       "      <td>0.473943</td>\n",
       "      <td>0.616683</td>\n",
       "      <td>-0.283548</td>\n",
       "      <td>-1.084843</td>\n",
       "      <td>0.073133</td>\n",
       "      <td>-0.036020</td>\n",
       "      <td>11.99</td>\n",
       "      <td>0</td>\n",
       "    </tr>\n",
       "    <tr>\n",
       "      <th>283483</th>\n",
       "      <td>171627.0</td>\n",
       "      <td>-1.464380</td>\n",
       "      <td>1.368119</td>\n",
       "      <td>0.815992</td>\n",
       "      <td>-0.601282</td>\n",
       "      <td>-0.689115</td>\n",
       "      <td>-0.487154</td>\n",
       "      <td>-0.303778</td>\n",
       "      <td>0.884953</td>\n",
       "      <td>0.054065</td>\n",
       "      <td>...</td>\n",
       "      <td>0.287217</td>\n",
       "      <td>0.947825</td>\n",
       "      <td>-0.218773</td>\n",
       "      <td>0.082926</td>\n",
       "      <td>0.044127</td>\n",
       "      <td>0.639270</td>\n",
       "      <td>0.213565</td>\n",
       "      <td>0.119251</td>\n",
       "      <td>6.82</td>\n",
       "      <td>0</td>\n",
       "    </tr>\n",
       "    <tr>\n",
       "      <th>283485</th>\n",
       "      <td>171627.0</td>\n",
       "      <td>-1.457978</td>\n",
       "      <td>1.378203</td>\n",
       "      <td>0.811515</td>\n",
       "      <td>-0.603760</td>\n",
       "      <td>-0.711883</td>\n",
       "      <td>-0.471672</td>\n",
       "      <td>-0.282535</td>\n",
       "      <td>0.880654</td>\n",
       "      <td>0.052808</td>\n",
       "      <td>...</td>\n",
       "      <td>0.284205</td>\n",
       "      <td>0.949659</td>\n",
       "      <td>-0.216949</td>\n",
       "      <td>0.083250</td>\n",
       "      <td>0.044944</td>\n",
       "      <td>0.639933</td>\n",
       "      <td>0.219432</td>\n",
       "      <td>0.116772</td>\n",
       "      <td>11.93</td>\n",
       "      <td>0</td>\n",
       "    </tr>\n",
       "    <tr>\n",
       "      <th>284191</th>\n",
       "      <td>172233.0</td>\n",
       "      <td>-2.667936</td>\n",
       "      <td>3.160505</td>\n",
       "      <td>-3.355984</td>\n",
       "      <td>1.007845</td>\n",
       "      <td>-0.377397</td>\n",
       "      <td>-0.109730</td>\n",
       "      <td>-0.667233</td>\n",
       "      <td>2.309700</td>\n",
       "      <td>-1.639306</td>\n",
       "      <td>...</td>\n",
       "      <td>0.391483</td>\n",
       "      <td>0.266536</td>\n",
       "      <td>-0.079853</td>\n",
       "      <td>-0.096395</td>\n",
       "      <td>0.086719</td>\n",
       "      <td>-0.451128</td>\n",
       "      <td>-1.183743</td>\n",
       "      <td>-0.222200</td>\n",
       "      <td>55.66</td>\n",
       "      <td>0</td>\n",
       "    </tr>\n",
       "    <tr>\n",
       "      <th>284193</th>\n",
       "      <td>172233.0</td>\n",
       "      <td>-2.691642</td>\n",
       "      <td>3.123168</td>\n",
       "      <td>-3.339407</td>\n",
       "      <td>1.017018</td>\n",
       "      <td>-0.293095</td>\n",
       "      <td>-0.167054</td>\n",
       "      <td>-0.745886</td>\n",
       "      <td>2.325616</td>\n",
       "      <td>-1.634651</td>\n",
       "      <td>...</td>\n",
       "      <td>0.402639</td>\n",
       "      <td>0.259746</td>\n",
       "      <td>-0.086606</td>\n",
       "      <td>-0.097597</td>\n",
       "      <td>0.083693</td>\n",
       "      <td>-0.453584</td>\n",
       "      <td>-1.205466</td>\n",
       "      <td>-0.213020</td>\n",
       "      <td>36.74</td>\n",
       "      <td>0</td>\n",
       "    </tr>\n",
       "  </tbody>\n",
       "</table>\n",
       "<p>1081 rows × 31 columns</p>\n",
       "</div>"
      ],
      "text/plain": [
       "            Time        V1        V2        V3        V4        V5        V6  \\\n",
       "33          26.0 -0.529912  0.873892  1.347247  0.145457  0.414209  0.100223   \n",
       "35          26.0 -0.535388  0.865268  1.351076  0.147575  0.433680  0.086983   \n",
       "113         74.0  1.038370  0.127486  0.184456  1.109950  0.441699  0.945283   \n",
       "114         74.0  1.038370  0.127486  0.184456  1.109950  0.441699  0.945283   \n",
       "115         74.0  1.038370  0.127486  0.184456  1.109950  0.441699  0.945283   \n",
       "...          ...       ...       ...       ...       ...       ...       ...   \n",
       "282987  171288.0  1.912550 -0.455240 -1.750654  0.454324  2.089130  4.160019   \n",
       "283483  171627.0 -1.464380  1.368119  0.815992 -0.601282 -0.689115 -0.487154   \n",
       "283485  171627.0 -1.457978  1.378203  0.811515 -0.603760 -0.711883 -0.471672   \n",
       "284191  172233.0 -2.667936  3.160505 -3.355984  1.007845 -0.377397 -0.109730   \n",
       "284193  172233.0 -2.691642  3.123168 -3.339407  1.017018 -0.293095 -0.167054   \n",
       "\n",
       "              V7        V8        V9  ...       V21       V22       V23  \\\n",
       "33      0.711206  0.176066 -0.286717  ...  0.046949  0.208105 -0.185548   \n",
       "35      0.693039  0.179742 -0.285642  ...  0.049526  0.206537 -0.187108   \n",
       "113    -0.036715  0.350995  0.118950  ...  0.102520  0.605089  0.023092   \n",
       "114    -0.036715  0.350995  0.118950  ...  0.102520  0.605089  0.023092   \n",
       "115    -0.036715  0.350995  0.118950  ...  0.102520  0.605089  0.023092   \n",
       "...          ...       ...       ...  ...       ...       ...       ...   \n",
       "282987 -0.881302  1.081750  1.022928  ... -0.524067 -1.337510  0.473943   \n",
       "283483 -0.303778  0.884953  0.054065  ...  0.287217  0.947825 -0.218773   \n",
       "283485 -0.282535  0.880654  0.052808  ...  0.284205  0.949659 -0.216949   \n",
       "284191 -0.667233  2.309700 -1.639306  ...  0.391483  0.266536 -0.079853   \n",
       "284193 -0.745886  2.325616 -1.634651  ...  0.402639  0.259746 -0.086606   \n",
       "\n",
       "             V24       V25       V26       V27       V28  Amount  Class  \n",
       "33      0.001031  0.098816 -0.552904 -0.073288  0.023307    6.14      0  \n",
       "35      0.000753  0.098117 -0.553471 -0.078306  0.025427    1.77      0  \n",
       "113    -0.626463  0.479120 -0.166937  0.081247  0.001192    1.18      0  \n",
       "114    -0.626463  0.479120 -0.166937  0.081247  0.001192    1.18      0  \n",
       "115    -0.626463  0.479120 -0.166937  0.081247  0.001192    1.18      0  \n",
       "...          ...       ...       ...       ...       ...     ...    ...  \n",
       "282987  0.616683 -0.283548 -1.084843  0.073133 -0.036020   11.99      0  \n",
       "283483  0.082926  0.044127  0.639270  0.213565  0.119251    6.82      0  \n",
       "283485  0.083250  0.044944  0.639933  0.219432  0.116772   11.93      0  \n",
       "284191 -0.096395  0.086719 -0.451128 -1.183743 -0.222200   55.66      0  \n",
       "284193 -0.097597  0.083693 -0.453584 -1.205466 -0.213020   36.74      0  \n",
       "\n",
       "[1081 rows x 31 columns]"
      ]
     },
     "execution_count": 9,
     "metadata": {},
     "output_type": "execute_result"
    }
   ],
   "source": [
    "#CHECK FOR DUPLICATE ROWS\n",
    "duplicate = cdf[cdf.duplicated()]\n",
    "duplicate\n",
    "\n",
    "#number of duplicates can be an important aspect to consider when looking at fraudulent transactions"
   ]
  },
  {
   "cell_type": "markdown",
   "metadata": {},
   "source": [
    "#### Analysing variable distribution and correlations"
   ]
  },
  {
   "cell_type": "code",
   "execution_count": 10,
   "metadata": {
    "scrolled": true
   },
   "outputs": [
    {
     "data": {
      "text/plain": [
       "Text(0.5, 1.0, 'Distribution of transaction time')"
      ]
     },
     "execution_count": 10,
     "metadata": {},
     "output_type": "execute_result"
    },
    {
     "data": {
      "image/png": "[encoded data removed]",
      "text/plain": [
       "<Figure size 864x360 with 2 Axes>"
      ]
     },
     "metadata": {
      "needs_background": "light"
     },
     "output_type": "display_data"
    }
   ],
   "source": [
    "#Plotting distribution graphs for the known variables and then plotting amount vs time graph\n",
    "\n",
    "fig, axes = plt.subplots(1,2, squeeze = False, figsize = (12,5))\n",
    "\n",
    "amount = cdf.Amount.values\n",
    "time = cdf.Time.values\n",
    "\n",
    "axes[0][0].hist(amount, 50, density=True)\n",
    "axes[0][0].set_xlabel('amount')\n",
    "axes[0][0].set_ylabel('frequency')\n",
    "axes[0][0].set_title('Distribution of transaction amount')\n",
    "\n",
    "axes[0][1].hist(time, 50, density=True)\n",
    "axes[0][1].set_xlabel('time')\n",
    "axes[0][1].set_ylabel('frequency')\n",
    "axes[0][1].set_title('Distribution of transaction time')\n"
   ]
  },
  {
   "cell_type": "code",
   "execution_count": 11,
   "metadata": {},
   "outputs": [
    {
     "data": {
      "text/plain": [
       "Text(0, 0.5, 'amount')"
      ]
     },
     "execution_count": 11,
     "metadata": {},
     "output_type": "execute_result"
    },
    {
     "data": {
      "image/png": "[encoded data removed]",
      "text/plain": [
       "<Figure size 576x432 with 1 Axes>"
      ]
     },
     "metadata": {
      "needs_background": "light"
     },
     "output_type": "display_data"
    }
   ],
   "source": [
    "#Scatter plot of transaction amount vs time\n",
    "fig, axes = plt.subplots(1, figsize=(8,6))\n",
    "\n",
    "axes.scatter(time, amount, alpha = 0.5)\n",
    "axes.set_title('Scatterplot of transaction amount vs time')\n",
    "axes.set_xlabel('time')\n",
    "axes.set_ylabel('amount')"
   ]
  },
  {
   "cell_type": "code",
   "execution_count": 93,
   "metadata": {},
   "outputs": [
    {
     "data": {
      "image/png": "[encoded data removed]",
      "text/plain": [
       "<Figure size 288x288 with 1 Axes>"
      ]
     },
     "metadata": {
      "needs_background": "light"
     },
     "output_type": "display_data"
    }
   ],
   "source": [
    "#Heatmap to visialize the correlations\n",
    "\n",
    "corr = cdf.corr()\n",
    "plt.matshow(corr)\n",
    "plt.show()"
   ]
  },
  {
   "cell_type": "code",
   "execution_count": 14,
   "metadata": {},
   "outputs": [
    {
     "data": {
      "text/plain": [
       "V7      Amount    0.397311\n",
       "Amount  V20       0.339403\n",
       "        V6        0.215981\n",
       "V5      Time      0.173072\n",
       "V11     Class     0.154876\n",
       "                    ...   \n",
       "V17     Class    -0.326481\n",
       "V5      Amount   -0.386356\n",
       "Time    V3       -0.419618\n",
       "V2      Amount   -0.531409\n",
       "Time    Time           NaN\n",
       "Length: 466, dtype: float64"
      ]
     },
     "execution_count": 14,
     "metadata": {},
     "output_type": "execute_result"
    }
   ],
   "source": [
    "#Displaying correlation co-efficients in descending order\n",
    "corr[corr < 1].unstack().transpose()\\\n",
    "    .sort_values( ascending=False)\\\n",
    "    .drop_duplicates()"
   ]
  },
  {
   "cell_type": "markdown",
   "metadata": {},
   "source": [
    "The variables V3 and Time, V2 and Amount, V7 and Amount, V20 and amount are moderately correlated and are explored further"
   ]
  },
  {
   "cell_type": "code",
   "execution_count": 15,
   "metadata": {},
   "outputs": [
    {
     "data": {
      "text/plain": [
       "Text(0, 0.5, 'V2o')"
      ]
     },
     "execution_count": 15,
     "metadata": {},
     "output_type": "execute_result"
    },
    {
     "data": {
      "image/png": "[encoded data removed]",
      "text/plain": [
       "<Figure size 720x432 with 4 Axes>"
      ]
     },
     "metadata": {
      "needs_background": "light"
     },
     "output_type": "display_data"
    }
   ],
   "source": [
    "##Plotting scatter plots for correlated variables\n",
    "\n",
    "fig, axes = plt.subplots(2, 2, figsize=(10, 6))\n",
    "\n",
    "axes[0][0].scatter(x = cdf['Time'], y = cdf['V3'], alpha = 0.5)\n",
    "axes[0][0].set_xlabel('Time')\n",
    "axes[0][0].set_ylabel('V3')\n",
    "\n",
    "axes[0][1].scatter(x = cdf['Amount'], y = cdf['V2'], alpha = 0.5)\n",
    "axes[0][1].set_xlabel('Amount')\n",
    "axes[0][1].set_ylabel('V2')\n",
    "\n",
    "axes[1][0].scatter(x = cdf['Amount'], y = cdf['V7'], alpha = 0.5)\n",
    "axes[1][0].set_xlabel('Amount')\n",
    "axes[1][0].set_ylabel('V7')\n",
    "\n",
    "axes[1][1].scatter(x = cdf['Amount'], y = cdf['V20'], alpha = 0.5)\n",
    "axes[1][1].set_xlabel('Amount')\n",
    "axes[1][1].set_ylabel('V2o')\n"
   ]
  },
  {
   "cell_type": "markdown",
   "metadata": {},
   "source": [
    "## 3. Pre-processing applied (20 marks)\n",
    "Enter the code in the cells below to execute each of the stated sub-tasks. \n"
   ]
  },
  {
   "cell_type": "markdown",
   "metadata": {},
   "source": [
    "###  a) Preparing the labels appropriately"
   ]
  },
  {
   "cell_type": "code",
   "execution_count": 16,
   "metadata": {},
   "outputs": [],
   "source": [
    "#The labels are prepared appropriately in the form of Boolean values, 1 - fraudulent transaction and 0 - normal transaction"
   ]
  },
  {
   "cell_type": "markdown",
   "metadata": {},
   "source": [
    "###  b) Removing synonymous and noisy attributes\n"
   ]
  },
  {
   "cell_type": "code",
   "execution_count": 203,
   "metadata": {},
   "outputs": [
    {
     "data": {
      "image/png": "[encoded data removed]",
      "text/plain": [
       "<Figure size 1440x5760 with 28 Axes>"
      ]
     },
     "metadata": {
      "needs_background": "light"
     },
     "output_type": "display_data"
    }
   ],
   "source": [
    "##Splitting attributes into fraudulent and normal and then comparing distributions for both to find usefull attributes\n",
    "import matplotlib.gridspec as gridspec\n",
    "\n",
    "#Choosing the unknown attributes\n",
    "feature = cdf.iloc[:, 1:29].columns\n",
    "\n",
    "fraud = cdf.Class == 1\n",
    "normal = cdf.Class == 0\n",
    "\n",
    "df1 = cdf[cdf['Class'] == 1]\n",
    "df2 = cdf[cdf['Class'] == 0]\n",
    "\n",
    "bins = np.linspace(-10, 10, 50)\n",
    "\n",
    "graph = gridspec.GridSpec(14, 2)\n",
    "plt.figure(figsize = (20, 20*4))\n",
    "\n",
    "for n, feat in enumerate(cdf[feature]):   \n",
    "    axes = plt.subplot(graph[n])\n",
    "    \n",
    "    #Alternate views between feature distribution for fraudulent data and normal data\n",
    "    axes.hist(cdf[feat][fraud],bins, alpha = 0.5)\n",
    "    #axes.hist(cdf[feat][normal], bins, alpha = 0.5)\n",
    "    \n",
    "    axes.set_title(str(feat))\n",
    "    \n",
    "plt.show()\n",
    "    "
   ]
  },
  {
   "cell_type": "markdown",
   "metadata": {},
   "source": [
    "On comparing the distributions for the different classes it can be observed that there are clear distinctions for most variables. Attributes from V20 onwards are dropped because they have a similar distribution for both fraudulent and normal transactions. It was noticed that fraudulent transactions have distributions which are highly skewed and asymmetric when compared to normal transactions."
   ]
  },
  {
   "cell_type": "code",
   "execution_count": 3,
   "metadata": {},
   "outputs": [
    {
     "data": {
      "text/html": [
       "<div>\n",
       "<style scoped>\n",
       "    .dataframe tbody tr th:only-of-type {\n",
       "        vertical-align: middle;\n",
       "    }\n",
       "\n",
       "    .dataframe tbody tr th {\n",
       "        vertical-align: top;\n",
       "    }\n",
       "\n",
       "    .dataframe thead th {\n",
       "        text-align: right;\n",
       "    }\n",
       "</style>\n",
       "<table border=\"1\" class=\"dataframe\">\n",
       "  <thead>\n",
       "    <tr style=\"text-align: right;\">\n",
       "      <th></th>\n",
       "      <th>Time</th>\n",
       "      <th>V1</th>\n",
       "      <th>V2</th>\n",
       "      <th>V3</th>\n",
       "      <th>V4</th>\n",
       "      <th>V5</th>\n",
       "      <th>V6</th>\n",
       "      <th>V7</th>\n",
       "      <th>V8</th>\n",
       "      <th>V9</th>\n",
       "      <th>...</th>\n",
       "      <th>V12</th>\n",
       "      <th>V13</th>\n",
       "      <th>V14</th>\n",
       "      <th>V15</th>\n",
       "      <th>V16</th>\n",
       "      <th>V17</th>\n",
       "      <th>V18</th>\n",
       "      <th>V19</th>\n",
       "      <th>Amount</th>\n",
       "      <th>Class</th>\n",
       "    </tr>\n",
       "  </thead>\n",
       "  <tbody>\n",
       "    <tr>\n",
       "      <th>0</th>\n",
       "      <td>0.0</td>\n",
       "      <td>-1.359807</td>\n",
       "      <td>-0.072781</td>\n",
       "      <td>2.536347</td>\n",
       "      <td>1.378155</td>\n",
       "      <td>-0.338321</td>\n",
       "      <td>0.462388</td>\n",
       "      <td>0.239599</td>\n",
       "      <td>0.098698</td>\n",
       "      <td>0.363787</td>\n",
       "      <td>...</td>\n",
       "      <td>-0.617801</td>\n",
       "      <td>-0.991390</td>\n",
       "      <td>-0.311169</td>\n",
       "      <td>1.468177</td>\n",
       "      <td>-0.470401</td>\n",
       "      <td>0.207971</td>\n",
       "      <td>0.025791</td>\n",
       "      <td>0.403993</td>\n",
       "      <td>149.62</td>\n",
       "      <td>0</td>\n",
       "    </tr>\n",
       "    <tr>\n",
       "      <th>1</th>\n",
       "      <td>0.0</td>\n",
       "      <td>1.191857</td>\n",
       "      <td>0.266151</td>\n",
       "      <td>0.166480</td>\n",
       "      <td>0.448154</td>\n",
       "      <td>0.060018</td>\n",
       "      <td>-0.082361</td>\n",
       "      <td>-0.078803</td>\n",
       "      <td>0.085102</td>\n",
       "      <td>-0.255425</td>\n",
       "      <td>...</td>\n",
       "      <td>1.065235</td>\n",
       "      <td>0.489095</td>\n",
       "      <td>-0.143772</td>\n",
       "      <td>0.635558</td>\n",
       "      <td>0.463917</td>\n",
       "      <td>-0.114805</td>\n",
       "      <td>-0.183361</td>\n",
       "      <td>-0.145783</td>\n",
       "      <td>2.69</td>\n",
       "      <td>0</td>\n",
       "    </tr>\n",
       "    <tr>\n",
       "      <th>2</th>\n",
       "      <td>1.0</td>\n",
       "      <td>-1.358354</td>\n",
       "      <td>-1.340163</td>\n",
       "      <td>1.773209</td>\n",
       "      <td>0.379780</td>\n",
       "      <td>-0.503198</td>\n",
       "      <td>1.800499</td>\n",
       "      <td>0.791461</td>\n",
       "      <td>0.247676</td>\n",
       "      <td>-1.514654</td>\n",
       "      <td>...</td>\n",
       "      <td>0.066084</td>\n",
       "      <td>0.717293</td>\n",
       "      <td>-0.165946</td>\n",
       "      <td>2.345865</td>\n",
       "      <td>-2.890083</td>\n",
       "      <td>1.109969</td>\n",
       "      <td>-0.121359</td>\n",
       "      <td>-2.261857</td>\n",
       "      <td>378.66</td>\n",
       "      <td>0</td>\n",
       "    </tr>\n",
       "    <tr>\n",
       "      <th>3</th>\n",
       "      <td>1.0</td>\n",
       "      <td>-0.966272</td>\n",
       "      <td>-0.185226</td>\n",
       "      <td>1.792993</td>\n",
       "      <td>-0.863291</td>\n",
       "      <td>-0.010309</td>\n",
       "      <td>1.247203</td>\n",
       "      <td>0.237609</td>\n",
       "      <td>0.377436</td>\n",
       "      <td>-1.387024</td>\n",
       "      <td>...</td>\n",
       "      <td>0.178228</td>\n",
       "      <td>0.507757</td>\n",
       "      <td>-0.287924</td>\n",
       "      <td>-0.631418</td>\n",
       "      <td>-1.059647</td>\n",
       "      <td>-0.684093</td>\n",
       "      <td>1.965775</td>\n",
       "      <td>-1.232622</td>\n",
       "      <td>123.50</td>\n",
       "      <td>0</td>\n",
       "    </tr>\n",
       "    <tr>\n",
       "      <th>4</th>\n",
       "      <td>2.0</td>\n",
       "      <td>-1.158233</td>\n",
       "      <td>0.877737</td>\n",
       "      <td>1.548718</td>\n",
       "      <td>0.403034</td>\n",
       "      <td>-0.407193</td>\n",
       "      <td>0.095921</td>\n",
       "      <td>0.592941</td>\n",
       "      <td>-0.270533</td>\n",
       "      <td>0.817739</td>\n",
       "      <td>...</td>\n",
       "      <td>0.538196</td>\n",
       "      <td>1.345852</td>\n",
       "      <td>-1.119670</td>\n",
       "      <td>0.175121</td>\n",
       "      <td>-0.451449</td>\n",
       "      <td>-0.237033</td>\n",
       "      <td>-0.038195</td>\n",
       "      <td>0.803487</td>\n",
       "      <td>69.99</td>\n",
       "      <td>0</td>\n",
       "    </tr>\n",
       "  </tbody>\n",
       "</table>\n",
       "<p>5 rows × 22 columns</p>\n",
       "</div>"
      ],
      "text/plain": [
       "   Time        V1        V2        V3        V4        V5        V6        V7  \\\n",
       "0   0.0 -1.359807 -0.072781  2.536347  1.378155 -0.338321  0.462388  0.239599   \n",
       "1   0.0  1.191857  0.266151  0.166480  0.448154  0.060018 -0.082361 -0.078803   \n",
       "2   1.0 -1.358354 -1.340163  1.773209  0.379780 -0.503198  1.800499  0.791461   \n",
       "3   1.0 -0.966272 -0.185226  1.792993 -0.863291 -0.010309  1.247203  0.237609   \n",
       "4   2.0 -1.158233  0.877737  1.548718  0.403034 -0.407193  0.095921  0.592941   \n",
       "\n",
       "         V8        V9  ...       V12       V13       V14       V15       V16  \\\n",
       "0  0.098698  0.363787  ... -0.617801 -0.991390 -0.311169  1.468177 -0.470401   \n",
       "1  0.085102 -0.255425  ...  1.065235  0.489095 -0.143772  0.635558  0.463917   \n",
       "2  0.247676 -1.514654  ...  0.066084  0.717293 -0.165946  2.345865 -2.890083   \n",
       "3  0.377436 -1.387024  ...  0.178228  0.507757 -0.287924 -0.631418 -1.059647   \n",
       "4 -0.270533  0.817739  ...  0.538196  1.345852 -1.119670  0.175121 -0.451449   \n",
       "\n",
       "        V17       V18       V19  Amount  Class  \n",
       "0  0.207971  0.025791  0.403993  149.62      0  \n",
       "1 -0.114805 -0.183361 -0.145783    2.69      0  \n",
       "2  1.109969 -0.121359 -2.261857  378.66      0  \n",
       "3 -0.684093  1.965775 -1.232622  123.50      0  \n",
       "4 -0.237033 -0.038195  0.803487   69.99      0  \n",
       "\n",
       "[5 rows x 22 columns]"
      ]
     },
     "execution_count": 3,
     "metadata": {},
     "output_type": "execute_result"
    }
   ],
   "source": [
    "#dropping columns\n",
    "\n",
    "data = cdf.drop(labels = ['V20', 'V21', 'V22', 'V23', 'V24', 'V25', 'V26', 'V27', 'V28'], axis = 1)\n",
    "data.head()"
   ]
  },
  {
   "cell_type": "markdown",
   "metadata": {},
   "source": [
    "###  c) Dealing with missing values\n"
   ]
  },
  {
   "cell_type": "code",
   "execution_count": null,
   "metadata": {},
   "outputs": [],
   "source": [
    "#There are no missing values in the given dataset "
   ]
  },
  {
   "cell_type": "markdown",
   "metadata": {},
   "source": [
    "###  d) Rescaling if necessary\n"
   ]
  },
  {
   "cell_type": "code",
   "execution_count": 4,
   "metadata": {},
   "outputs": [
    {
     "data": {
      "text/html": [
       "<div>\n",
       "<style scoped>\n",
       "    .dataframe tbody tr th:only-of-type {\n",
       "        vertical-align: middle;\n",
       "    }\n",
       "\n",
       "    .dataframe tbody tr th {\n",
       "        vertical-align: top;\n",
       "    }\n",
       "\n",
       "    .dataframe thead th {\n",
       "        text-align: right;\n",
       "    }\n",
       "</style>\n",
       "<table border=\"1\" class=\"dataframe\">\n",
       "  <thead>\n",
       "    <tr style=\"text-align: right;\">\n",
       "      <th></th>\n",
       "      <th>V1</th>\n",
       "      <th>V2</th>\n",
       "      <th>V3</th>\n",
       "      <th>V4</th>\n",
       "      <th>V5</th>\n",
       "      <th>V6</th>\n",
       "      <th>V7</th>\n",
       "      <th>V8</th>\n",
       "      <th>V9</th>\n",
       "      <th>V10</th>\n",
       "      <th>...</th>\n",
       "      <th>V13</th>\n",
       "      <th>V14</th>\n",
       "      <th>V15</th>\n",
       "      <th>V16</th>\n",
       "      <th>V17</th>\n",
       "      <th>V18</th>\n",
       "      <th>V19</th>\n",
       "      <th>Class</th>\n",
       "      <th>scaled_amount</th>\n",
       "      <th>scaled_time</th>\n",
       "    </tr>\n",
       "  </thead>\n",
       "  <tbody>\n",
       "    <tr>\n",
       "      <th>0</th>\n",
       "      <td>-1.359807</td>\n",
       "      <td>-0.072781</td>\n",
       "      <td>2.536347</td>\n",
       "      <td>1.378155</td>\n",
       "      <td>-0.338321</td>\n",
       "      <td>0.462388</td>\n",
       "      <td>0.239599</td>\n",
       "      <td>0.098698</td>\n",
       "      <td>0.363787</td>\n",
       "      <td>0.090794</td>\n",
       "      <td>...</td>\n",
       "      <td>-0.991390</td>\n",
       "      <td>-0.311169</td>\n",
       "      <td>1.468177</td>\n",
       "      <td>-0.470401</td>\n",
       "      <td>0.207971</td>\n",
       "      <td>0.025791</td>\n",
       "      <td>0.403993</td>\n",
       "      <td>0</td>\n",
       "      <td>1.783274</td>\n",
       "      <td>-0.994983</td>\n",
       "    </tr>\n",
       "    <tr>\n",
       "      <th>1</th>\n",
       "      <td>1.191857</td>\n",
       "      <td>0.266151</td>\n",
       "      <td>0.166480</td>\n",
       "      <td>0.448154</td>\n",
       "      <td>0.060018</td>\n",
       "      <td>-0.082361</td>\n",
       "      <td>-0.078803</td>\n",
       "      <td>0.085102</td>\n",
       "      <td>-0.255425</td>\n",
       "      <td>-0.166974</td>\n",
       "      <td>...</td>\n",
       "      <td>0.489095</td>\n",
       "      <td>-0.143772</td>\n",
       "      <td>0.635558</td>\n",
       "      <td>0.463917</td>\n",
       "      <td>-0.114805</td>\n",
       "      <td>-0.183361</td>\n",
       "      <td>-0.145783</td>\n",
       "      <td>0</td>\n",
       "      <td>-0.269825</td>\n",
       "      <td>-0.994983</td>\n",
       "    </tr>\n",
       "    <tr>\n",
       "      <th>2</th>\n",
       "      <td>-1.358354</td>\n",
       "      <td>-1.340163</td>\n",
       "      <td>1.773209</td>\n",
       "      <td>0.379780</td>\n",
       "      <td>-0.503198</td>\n",
       "      <td>1.800499</td>\n",
       "      <td>0.791461</td>\n",
       "      <td>0.247676</td>\n",
       "      <td>-1.514654</td>\n",
       "      <td>0.207643</td>\n",
       "      <td>...</td>\n",
       "      <td>0.717293</td>\n",
       "      <td>-0.165946</td>\n",
       "      <td>2.345865</td>\n",
       "      <td>-2.890083</td>\n",
       "      <td>1.109969</td>\n",
       "      <td>-0.121359</td>\n",
       "      <td>-2.261857</td>\n",
       "      <td>0</td>\n",
       "      <td>4.983721</td>\n",
       "      <td>-0.994972</td>\n",
       "    </tr>\n",
       "    <tr>\n",
       "      <th>3</th>\n",
       "      <td>-0.966272</td>\n",
       "      <td>-0.185226</td>\n",
       "      <td>1.792993</td>\n",
       "      <td>-0.863291</td>\n",
       "      <td>-0.010309</td>\n",
       "      <td>1.247203</td>\n",
       "      <td>0.237609</td>\n",
       "      <td>0.377436</td>\n",
       "      <td>-1.387024</td>\n",
       "      <td>-0.054952</td>\n",
       "      <td>...</td>\n",
       "      <td>0.507757</td>\n",
       "      <td>-0.287924</td>\n",
       "      <td>-0.631418</td>\n",
       "      <td>-1.059647</td>\n",
       "      <td>-0.684093</td>\n",
       "      <td>1.965775</td>\n",
       "      <td>-1.232622</td>\n",
       "      <td>0</td>\n",
       "      <td>1.418291</td>\n",
       "      <td>-0.994972</td>\n",
       "    </tr>\n",
       "    <tr>\n",
       "      <th>4</th>\n",
       "      <td>-1.158233</td>\n",
       "      <td>0.877737</td>\n",
       "      <td>1.548718</td>\n",
       "      <td>0.403034</td>\n",
       "      <td>-0.407193</td>\n",
       "      <td>0.095921</td>\n",
       "      <td>0.592941</td>\n",
       "      <td>-0.270533</td>\n",
       "      <td>0.817739</td>\n",
       "      <td>0.753074</td>\n",
       "      <td>...</td>\n",
       "      <td>1.345852</td>\n",
       "      <td>-1.119670</td>\n",
       "      <td>0.175121</td>\n",
       "      <td>-0.451449</td>\n",
       "      <td>-0.237033</td>\n",
       "      <td>-0.038195</td>\n",
       "      <td>0.803487</td>\n",
       "      <td>0</td>\n",
       "      <td>0.670579</td>\n",
       "      <td>-0.994960</td>\n",
       "    </tr>\n",
       "  </tbody>\n",
       "</table>\n",
       "<p>5 rows × 22 columns</p>\n",
       "</div>"
      ],
      "text/plain": [
       "         V1        V2        V3        V4        V5        V6        V7  \\\n",
       "0 -1.359807 -0.072781  2.536347  1.378155 -0.338321  0.462388  0.239599   \n",
       "1  1.191857  0.266151  0.166480  0.448154  0.060018 -0.082361 -0.078803   \n",
       "2 -1.358354 -1.340163  1.773209  0.379780 -0.503198  1.800499  0.791461   \n",
       "3 -0.966272 -0.185226  1.792993 -0.863291 -0.010309  1.247203  0.237609   \n",
       "4 -1.158233  0.877737  1.548718  0.403034 -0.407193  0.095921  0.592941   \n",
       "\n",
       "         V8        V9       V10  ...       V13       V14       V15       V16  \\\n",
       "0  0.098698  0.363787  0.090794  ... -0.991390 -0.311169  1.468177 -0.470401   \n",
       "1  0.085102 -0.255425 -0.166974  ...  0.489095 -0.143772  0.635558  0.463917   \n",
       "2  0.247676 -1.514654  0.207643  ...  0.717293 -0.165946  2.345865 -2.890083   \n",
       "3  0.377436 -1.387024 -0.054952  ...  0.507757 -0.287924 -0.631418 -1.059647   \n",
       "4 -0.270533  0.817739  0.753074  ...  1.345852 -1.119670  0.175121 -0.451449   \n",
       "\n",
       "        V17       V18       V19  Class  scaled_amount  scaled_time  \n",
       "0  0.207971  0.025791  0.403993      0       1.783274    -0.994983  \n",
       "1 -0.114805 -0.183361 -0.145783      0      -0.269825    -0.994983  \n",
       "2  1.109969 -0.121359 -2.261857      0       4.983721    -0.994972  \n",
       "3 -0.684093  1.965775 -1.232622      0       1.418291    -0.994972  \n",
       "4 -0.237033 -0.038195  0.803487      0       0.670579    -0.994960  \n",
       "\n",
       "[5 rows x 22 columns]"
      ]
     },
     "execution_count": 4,
     "metadata": {},
     "output_type": "execute_result"
    }
   ],
   "source": [
    "#Amount needs to be rescaled \n",
    "from sklearn.preprocessing import RobustScaler\n",
    "\n",
    "#RobustScaler is less prone to outliers\n",
    "rob_scaler = RobustScaler()\n",
    "data['scaled_amount'] = rob_scaler.fit_transform(data['Amount'].values.reshape(-1,1))\n",
    "data['scaled_time'] = rob_scaler.fit_transform(data['Time'].values.reshape(-1,1))\n",
    "data.drop(['Amount', 'Time'], axis=1, inplace=True)\n",
    "data.head()"
   ]
  },
  {
   "cell_type": "markdown",
   "metadata": {},
   "source": [
    "### e) Other"
   ]
  },
  {
   "cell_type": "code",
   "execution_count": 252,
   "metadata": {},
   "outputs": [
    {
     "data": {
      "text/html": [
       "<div>\n",
       "<style scoped>\n",
       "    .dataframe tbody tr th:only-of-type {\n",
       "        vertical-align: middle;\n",
       "    }\n",
       "\n",
       "    .dataframe tbody tr th {\n",
       "        vertical-align: top;\n",
       "    }\n",
       "\n",
       "    .dataframe thead th {\n",
       "        text-align: right;\n",
       "    }\n",
       "</style>\n",
       "<table border=\"1\" class=\"dataframe\">\n",
       "  <thead>\n",
       "    <tr style=\"text-align: right;\">\n",
       "      <th></th>\n",
       "      <th>V1</th>\n",
       "      <th>V2</th>\n",
       "      <th>V3</th>\n",
       "      <th>V4</th>\n",
       "      <th>V5</th>\n",
       "      <th>V6</th>\n",
       "      <th>V7</th>\n",
       "      <th>V8</th>\n",
       "      <th>V9</th>\n",
       "      <th>V10</th>\n",
       "      <th>...</th>\n",
       "      <th>V12</th>\n",
       "      <th>V13</th>\n",
       "      <th>V14</th>\n",
       "      <th>V15</th>\n",
       "      <th>V16</th>\n",
       "      <th>V17</th>\n",
       "      <th>V18</th>\n",
       "      <th>V19</th>\n",
       "      <th>Class</th>\n",
       "      <th>scaled_amount</th>\n",
       "    </tr>\n",
       "  </thead>\n",
       "  <tbody>\n",
       "    <tr>\n",
       "      <th>count</th>\n",
       "      <td>2.848070e+05</td>\n",
       "      <td>2.848070e+05</td>\n",
       "      <td>2.848070e+05</td>\n",
       "      <td>2.848070e+05</td>\n",
       "      <td>2.848070e+05</td>\n",
       "      <td>2.848070e+05</td>\n",
       "      <td>2.848070e+05</td>\n",
       "      <td>2.848070e+05</td>\n",
       "      <td>2.848070e+05</td>\n",
       "      <td>2.848070e+05</td>\n",
       "      <td>...</td>\n",
       "      <td>2.848070e+05</td>\n",
       "      <td>2.848070e+05</td>\n",
       "      <td>2.848070e+05</td>\n",
       "      <td>2.848070e+05</td>\n",
       "      <td>2.848070e+05</td>\n",
       "      <td>2.848070e+05</td>\n",
       "      <td>2.848070e+05</td>\n",
       "      <td>2.848070e+05</td>\n",
       "      <td>284807.000000</td>\n",
       "      <td>284807.000000</td>\n",
       "    </tr>\n",
       "    <tr>\n",
       "      <th>mean</th>\n",
       "      <td>1.758702e-12</td>\n",
       "      <td>-8.252296e-13</td>\n",
       "      <td>-9.637438e-13</td>\n",
       "      <td>8.316234e-13</td>\n",
       "      <td>1.592013e-13</td>\n",
       "      <td>4.247308e-13</td>\n",
       "      <td>-3.050183e-13</td>\n",
       "      <td>8.692882e-14</td>\n",
       "      <td>-1.179710e-12</td>\n",
       "      <td>7.094921e-13</td>\n",
       "      <td>...</td>\n",
       "      <td>1.053507e-12</td>\n",
       "      <td>7.137575e-13</td>\n",
       "      <td>-1.491369e-13</td>\n",
       "      <td>-5.225946e-13</td>\n",
       "      <td>-2.280687e-13</td>\n",
       "      <td>-6.428451e-13</td>\n",
       "      <td>4.958999e-13</td>\n",
       "      <td>7.060690e-13</td>\n",
       "      <td>0.001727</td>\n",
       "      <td>0.927124</td>\n",
       "    </tr>\n",
       "    <tr>\n",
       "      <th>std</th>\n",
       "      <td>1.958696e+00</td>\n",
       "      <td>1.651309e+00</td>\n",
       "      <td>1.516255e+00</td>\n",
       "      <td>1.415869e+00</td>\n",
       "      <td>1.380247e+00</td>\n",
       "      <td>1.332271e+00</td>\n",
       "      <td>1.237094e+00</td>\n",
       "      <td>1.194353e+00</td>\n",
       "      <td>1.098632e+00</td>\n",
       "      <td>1.088850e+00</td>\n",
       "      <td>...</td>\n",
       "      <td>9.992014e-01</td>\n",
       "      <td>9.952742e-01</td>\n",
       "      <td>9.585956e-01</td>\n",
       "      <td>9.153160e-01</td>\n",
       "      <td>8.762529e-01</td>\n",
       "      <td>8.493371e-01</td>\n",
       "      <td>8.381762e-01</td>\n",
       "      <td>8.140405e-01</td>\n",
       "      <td>0.041527</td>\n",
       "      <td>3.495006</td>\n",
       "    </tr>\n",
       "    <tr>\n",
       "      <th>min</th>\n",
       "      <td>-5.640751e+01</td>\n",
       "      <td>-7.271573e+01</td>\n",
       "      <td>-4.832559e+01</td>\n",
       "      <td>-5.683171e+00</td>\n",
       "      <td>-1.137433e+02</td>\n",
       "      <td>-2.616051e+01</td>\n",
       "      <td>-4.355724e+01</td>\n",
       "      <td>-7.321672e+01</td>\n",
       "      <td>-1.343407e+01</td>\n",
       "      <td>-2.458826e+01</td>\n",
       "      <td>...</td>\n",
       "      <td>-1.868371e+01</td>\n",
       "      <td>-5.791881e+00</td>\n",
       "      <td>-1.921433e+01</td>\n",
       "      <td>-4.498945e+00</td>\n",
       "      <td>-1.412985e+01</td>\n",
       "      <td>-2.516280e+01</td>\n",
       "      <td>-9.498746e+00</td>\n",
       "      <td>-7.213527e+00</td>\n",
       "      <td>0.000000</td>\n",
       "      <td>-0.307413</td>\n",
       "    </tr>\n",
       "    <tr>\n",
       "      <th>25%</th>\n",
       "      <td>-9.203734e-01</td>\n",
       "      <td>-5.985499e-01</td>\n",
       "      <td>-8.903648e-01</td>\n",
       "      <td>-8.486401e-01</td>\n",
       "      <td>-6.915971e-01</td>\n",
       "      <td>-7.682956e-01</td>\n",
       "      <td>-5.540759e-01</td>\n",
       "      <td>-2.086297e-01</td>\n",
       "      <td>-6.430976e-01</td>\n",
       "      <td>-5.354257e-01</td>\n",
       "      <td>...</td>\n",
       "      <td>-4.055715e-01</td>\n",
       "      <td>-6.485393e-01</td>\n",
       "      <td>-4.255740e-01</td>\n",
       "      <td>-5.828843e-01</td>\n",
       "      <td>-4.680368e-01</td>\n",
       "      <td>-4.837483e-01</td>\n",
       "      <td>-4.988498e-01</td>\n",
       "      <td>-4.562989e-01</td>\n",
       "      <td>0.000000</td>\n",
       "      <td>-0.229162</td>\n",
       "    </tr>\n",
       "    <tr>\n",
       "      <th>50%</th>\n",
       "      <td>1.810880e-02</td>\n",
       "      <td>6.548556e-02</td>\n",
       "      <td>1.798463e-01</td>\n",
       "      <td>-1.984653e-02</td>\n",
       "      <td>-5.433583e-02</td>\n",
       "      <td>-2.741871e-01</td>\n",
       "      <td>4.010308e-02</td>\n",
       "      <td>2.235804e-02</td>\n",
       "      <td>-5.142873e-02</td>\n",
       "      <td>-9.291738e-02</td>\n",
       "      <td>...</td>\n",
       "      <td>1.400326e-01</td>\n",
       "      <td>-1.356806e-02</td>\n",
       "      <td>5.060132e-02</td>\n",
       "      <td>4.807155e-02</td>\n",
       "      <td>6.641332e-02</td>\n",
       "      <td>-6.567575e-02</td>\n",
       "      <td>-3.636312e-03</td>\n",
       "      <td>3.734823e-03</td>\n",
       "      <td>0.000000</td>\n",
       "      <td>0.000000</td>\n",
       "    </tr>\n",
       "    <tr>\n",
       "      <th>75%</th>\n",
       "      <td>1.315642e+00</td>\n",
       "      <td>8.037239e-01</td>\n",
       "      <td>1.027196e+00</td>\n",
       "      <td>7.433413e-01</td>\n",
       "      <td>6.119264e-01</td>\n",
       "      <td>3.985649e-01</td>\n",
       "      <td>5.704361e-01</td>\n",
       "      <td>3.273459e-01</td>\n",
       "      <td>5.971390e-01</td>\n",
       "      <td>4.539234e-01</td>\n",
       "      <td>...</td>\n",
       "      <td>6.182380e-01</td>\n",
       "      <td>6.625050e-01</td>\n",
       "      <td>4.931498e-01</td>\n",
       "      <td>6.488208e-01</td>\n",
       "      <td>5.232963e-01</td>\n",
       "      <td>3.996750e-01</td>\n",
       "      <td>5.008067e-01</td>\n",
       "      <td>4.589494e-01</td>\n",
       "      <td>0.000000</td>\n",
       "      <td>0.770838</td>\n",
       "    </tr>\n",
       "    <tr>\n",
       "      <th>max</th>\n",
       "      <td>2.454930e+00</td>\n",
       "      <td>2.205773e+01</td>\n",
       "      <td>9.382558e+00</td>\n",
       "      <td>1.687534e+01</td>\n",
       "      <td>3.480167e+01</td>\n",
       "      <td>7.330163e+01</td>\n",
       "      <td>1.205895e+02</td>\n",
       "      <td>2.000721e+01</td>\n",
       "      <td>1.559499e+01</td>\n",
       "      <td>2.374514e+01</td>\n",
       "      <td>...</td>\n",
       "      <td>7.848392e+00</td>\n",
       "      <td>7.126883e+00</td>\n",
       "      <td>1.052677e+01</td>\n",
       "      <td>8.877742e+00</td>\n",
       "      <td>1.731511e+01</td>\n",
       "      <td>9.253526e+00</td>\n",
       "      <td>5.041069e+00</td>\n",
       "      <td>5.591971e+00</td>\n",
       "      <td>1.000000</td>\n",
       "      <td>358.683155</td>\n",
       "    </tr>\n",
       "  </tbody>\n",
       "</table>\n",
       "<p>8 rows × 21 columns</p>\n",
       "</div>"
      ],
      "text/plain": [
       "                 V1            V2            V3            V4            V5  \\\n",
       "count  2.848070e+05  2.848070e+05  2.848070e+05  2.848070e+05  2.848070e+05   \n",
       "mean   1.758702e-12 -8.252296e-13 -9.637438e-13  8.316234e-13  1.592013e-13   \n",
       "std    1.958696e+00  1.651309e+00  1.516255e+00  1.415869e+00  1.380247e+00   \n",
       "min   -5.640751e+01 -7.271573e+01 -4.832559e+01 -5.683171e+00 -1.137433e+02   \n",
       "25%   -9.203734e-01 -5.985499e-01 -8.903648e-01 -8.486401e-01 -6.915971e-01   \n",
       "50%    1.810880e-02  6.548556e-02  1.798463e-01 -1.984653e-02 -5.433583e-02   \n",
       "75%    1.315642e+00  8.037239e-01  1.027196e+00  7.433413e-01  6.119264e-01   \n",
       "max    2.454930e+00  2.205773e+01  9.382558e+00  1.687534e+01  3.480167e+01   \n",
       "\n",
       "                 V6            V7            V8            V9           V10  \\\n",
       "count  2.848070e+05  2.848070e+05  2.848070e+05  2.848070e+05  2.848070e+05   \n",
       "mean   4.247308e-13 -3.050183e-13  8.692882e-14 -1.179710e-12  7.094921e-13   \n",
       "std    1.332271e+00  1.237094e+00  1.194353e+00  1.098632e+00  1.088850e+00   \n",
       "min   -2.616051e+01 -4.355724e+01 -7.321672e+01 -1.343407e+01 -2.458826e+01   \n",
       "25%   -7.682956e-01 -5.540759e-01 -2.086297e-01 -6.430976e-01 -5.354257e-01   \n",
       "50%   -2.741871e-01  4.010308e-02  2.235804e-02 -5.142873e-02 -9.291738e-02   \n",
       "75%    3.985649e-01  5.704361e-01  3.273459e-01  5.971390e-01  4.539234e-01   \n",
       "max    7.330163e+01  1.205895e+02  2.000721e+01  1.559499e+01  2.374514e+01   \n",
       "\n",
       "       ...           V12           V13           V14           V15  \\\n",
       "count  ...  2.848070e+05  2.848070e+05  2.848070e+05  2.848070e+05   \n",
       "mean   ...  1.053507e-12  7.137575e-13 -1.491369e-13 -5.225946e-13   \n",
       "std    ...  9.992014e-01  9.952742e-01  9.585956e-01  9.153160e-01   \n",
       "min    ... -1.868371e+01 -5.791881e+00 -1.921433e+01 -4.498945e+00   \n",
       "25%    ... -4.055715e-01 -6.485393e-01 -4.255740e-01 -5.828843e-01   \n",
       "50%    ...  1.400326e-01 -1.356806e-02  5.060132e-02  4.807155e-02   \n",
       "75%    ...  6.182380e-01  6.625050e-01  4.931498e-01  6.488208e-01   \n",
       "max    ...  7.848392e+00  7.126883e+00  1.052677e+01  8.877742e+00   \n",
       "\n",
       "                V16           V17           V18           V19          Class  \\\n",
       "count  2.848070e+05  2.848070e+05  2.848070e+05  2.848070e+05  284807.000000   \n",
       "mean  -2.280687e-13 -6.428451e-13  4.958999e-13  7.060690e-13       0.001727   \n",
       "std    8.762529e-01  8.493371e-01  8.381762e-01  8.140405e-01       0.041527   \n",
       "min   -1.412985e+01 -2.516280e+01 -9.498746e+00 -7.213527e+00       0.000000   \n",
       "25%   -4.680368e-01 -4.837483e-01 -4.988498e-01 -4.562989e-01       0.000000   \n",
       "50%    6.641332e-02 -6.567575e-02 -3.636312e-03  3.734823e-03       0.000000   \n",
       "75%    5.232963e-01  3.996750e-01  5.008067e-01  4.589494e-01       0.000000   \n",
       "max    1.731511e+01  9.253526e+00  5.041069e+00  5.591971e+00       1.000000   \n",
       "\n",
       "       scaled_amount  \n",
       "count  284807.000000  \n",
       "mean        0.927124  \n",
       "std         3.495006  \n",
       "min        -0.307413  \n",
       "25%        -0.229162  \n",
       "50%         0.000000  \n",
       "75%         0.770838  \n",
       "max       358.683155  \n",
       "\n",
       "[8 rows x 21 columns]"
      ]
     },
     "execution_count": 252,
     "metadata": {},
     "output_type": "execute_result"
    }
   ],
   "source": [
    "data.describe()"
   ]
  },
  {
   "cell_type": "markdown",
   "metadata": {},
   "source": [
    "#### Splitting pre-processed data into input and output variables"
   ]
  },
  {
   "cell_type": "code",
   "execution_count": 5,
   "metadata": {},
   "outputs": [],
   "source": [
    "#Dividing into input and output variables\n",
    "X = data.drop(['Class'],axis=1)\n",
    "y = data[\"Class\"]"
   ]
  },
  {
   "cell_type": "markdown",
   "metadata": {},
   "source": [
    "#### Specifying training and testing data"
   ]
  },
  {
   "cell_type": "code",
   "execution_count": 6,
   "metadata": {},
   "outputs": [],
   "source": [
    "#specifying testing and training data set, 30/70% split\n",
    "#data is split using stratification, random state to control the randomisation\n",
    "#Stratification is used to preserve the proportion of examples in each class as observed in the original dataset which is imbalanced\n",
    "from sklearn.model_selection import train_test_split\n",
    "\n",
    "X_train,X_test,y_train,y_test= train_test_split(X,y,test_size=0.3,random_state=42,stratify=y)"
   ]
  },
  {
   "cell_type": "markdown",
   "metadata": {},
   "source": [
    "#### Handling class imbalance"
   ]
  },
  {
   "cell_type": "code",
   "execution_count": 7,
   "metadata": {},
   "outputs": [],
   "source": [
    "#Handling class imbalance using SMOTE\n",
    "from imblearn.over_sampling import SMOTE\n",
    "from imblearn.over_sampling import RandomOverSampler\n",
    "from imblearn.under_sampling import RandomUnderSampler\n",
    "from imblearn.pipeline import Pipeline\n",
    "\n",
    "over = SMOTE()\n",
    "over_sam = RandomOverSampler()\n",
    "under_sam = RandomUnderSampler()\n",
    "\n",
    "#list of transforms and final estimator to add to the pipeline\n",
    "steps = [('o', over), ('os', over_sam),('u',under_sam)]\n",
    "pipeline = Pipeline(steps=steps)"
   ]
  },
  {
   "cell_type": "markdown",
   "metadata": {},
   "source": [
    "#### Standardizing and centering data and method for confusion matrix"
   ]
  },
  {
   "cell_type": "code",
   "execution_count": 8,
   "metadata": {},
   "outputs": [],
   "source": [
    "from sklearn.preprocessing import StandardScaler\n",
    "\n",
    "standard_sc = StandardScaler()\n",
    "\n",
    "#fit the model and sample with the final estimator\n",
    "X_train, y_train = pipeline.fit_resample(X_train, y_train)\n",
    "\n",
    "#Fit training data and transform it\n",
    "X_train=standard_sc.fit_transform(X_train)\n",
    "\n",
    "#standardize and center test data\n",
    "X_test=standard_sc.transform(X_test)"
   ]
  },
  {
   "cell_type": "code",
   "execution_count": 53,
   "metadata": {},
   "outputs": [],
   "source": [
    "## Method for confusion Matrix \n",
    "from sklearn.metrics import confusion_matrix\n",
    "\n",
    "def conf_mat(y_test,y_test_pred,X):\n",
    "    #Classify into Fraudulent and Normal\n",
    "    names=['Normal','Fraudulent']\n",
    "    \n",
    "    #confusion matrix to evaluate the accuracy of binary classification (ground truth, estimated values)\n",
    "    cm=confusion_matrix(y_test,y_test_pred)\n",
    "    \n",
    "    #plot definitions\n",
    "    fig, ax = plt.subplots(figsize=(5, 5))\n",
    "    ax.matshow(cm, cmap=plt.cm.GnBu, alpha = 0.5)\n",
    "    for i in range(cm.shape[0]):\n",
    "        for j in range(cm.shape[1]):\n",
    "            ax.text(x=j, y=i,s=cm[i, j], va='center', ha='center')\n",
    " \n",
    "    plt.xlabel('predicted class', fontsize=12)\n",
    "    plt.ylabel('actual class', fontsize=12)\n",
    "    plt.title(X, fontsize=12)\n",
    "    plt.show()\n",
    "\n",
    "    return"
   ]
  },
  {
   "cell_type": "markdown",
   "metadata": {},
   "source": [
    "## 4. Technique 1 - Random Forest (20 marks)"
   ]
  },
  {
   "attachments": {
    "random.PNG": {
     "image/png": "[encoded data removed]"
    }
   },
   "cell_type": "markdown",
   "metadata": {},
   "source": [
    "### a) Discuss your motivation for choosing the technique and provide a schematic figure of the process\n",
    "\n",
    "100-200 words\n",
    "\n",
    "Random Forests are ensemble learning methids that can be used for classification or regression. It is a supervised learning algorithm and is used since the lables for the two distinct classes are provided. Random Forest Classifier was used as the classification algorith due to its high accuracy as it uses multiple decision trees to classify. This usage of multiple trees also prevents the model from overfitting. It does not rely on the importance of a single feature of a single decison tree and works well with data having discrete classes. The dataset is divided into distinct classes (Fraudulent and Normal transactions). Most importantly, it performs well on highly imbalanced data such as as this one and works well with resampling techniques like SMOTE, undersampling and oversampling. On the flipside, Random Forest classifier takes more training time and processing power for larger datasets.\n",
    "\n",
    "The model with default parameters was trained with the given data and the mean accuracy on test data and labels was found out and confusion matrix plotted. The most important attribute to make decisions was found out with the help of gini index and the top 5 were plotted according to importance. Parameters were then defined and optimized with the help of GridSearchCV. Finally, performance metrics were measured using confusion matrix, accuracy, precision, recall, F-1 scores and ROC curves.\n",
    "\n",
    "\n",
    "![random.PNG](attachment:random.PNG)"
   ]
  },
  {
   "cell_type": "markdown",
   "metadata": {},
   "source": [
    "Enter the correct code in the cells below to execute each of the stated sub-tasks.\n",
    "### b) Setting hyper parameters with rationale\n"
   ]
  },
  {
   "cell_type": "code",
   "execution_count": 10,
   "metadata": {},
   "outputs": [
    {
     "data": {
      "text/plain": [
       "0.9993914071369217"
      ]
     },
     "execution_count": 10,
     "metadata": {},
     "output_type": "execute_result"
    }
   ],
   "source": [
    "#Random Forest Classifier fits decision tree classifiers onto sub samples of the dataset\n",
    "from sklearn.ensemble import RandomForestClassifier\n",
    "\n",
    "RF = RandomForestClassifier(random_state=42)\n",
    "\n",
    "#build forest of trees from training set x-train and y-train\n",
    "RF.fit(X_train, y_train)\n",
    "\n",
    "#predict class for X\n",
    "pred = RF.predict(X_test)\n",
    "\n",
    "#mean accuracy on given test data and labels\n",
    "score = RF.score(X_test,y_test)\n",
    "score"
   ]
  },
  {
   "cell_type": "code",
   "execution_count": 11,
   "metadata": {},
   "outputs": [
    {
     "data": {
      "text/plain": [
       "<AxesSubplot:>"
      ]
     },
     "execution_count": 11,
     "metadata": {},
     "output_type": "execute_result"
    },
    {
     "data": {
      "image/png": "[encoded data removed]",
      "text/plain": [
       "<Figure size 432x288 with 1 Axes>"
      ]
     },
     "metadata": {
      "needs_background": "light"
     },
     "output_type": "display_data"
    }
   ],
   "source": [
    "#calculate gini importance. computed as the normalized total reduction of the criterion brought by the feature\n",
    "feat_importances = pd.Series(RF.feature_importances_, index=data.drop('Class',axis=1).columns)\n",
    "feat_importances.nlargest(5).plot(kind='barh')"
   ]
  },
  {
   "cell_type": "code",
   "execution_count": 12,
   "metadata": {},
   "outputs": [],
   "source": [
    "##Random Forest Classifier with parameters defined\n",
    "clf = RandomForestClassifier(random_state=42)\n",
    "params_RF = {\n",
    "    'n_estimators': [200, 400],\n",
    "    'max_features': ['auto', 'sqrt', 'log2'],\n",
    "    'max_depth' : [4,5,6,7,8],\n",
    "    'criterion' :['gini', 'entropy']\n",
    "}"
   ]
  },
  {
   "cell_type": "markdown",
   "metadata": {},
   "source": [
    "### c) Optimising hyper parameters\n"
   ]
  },
  {
   "cell_type": "code",
   "execution_count": 14,
   "metadata": {},
   "outputs": [
    {
     "data": {
      "text/plain": [
       "GridSearchCV(cv=3, estimator=RandomForestClassifier(random_state=42), n_jobs=-1,\n",
       "             param_grid={'criterion': ['gini', 'entropy'],\n",
       "                         'max_depth': [4, 5, 6, 7, 8],\n",
       "                         'max_features': ['auto', 'sqrt', 'log2'],\n",
       "                         'n_estimators': [200, 400]},\n",
       "             scoring='roc_auc')"
      ]
     },
     "execution_count": 14,
     "metadata": {},
     "output_type": "execute_result"
    }
   ],
   "source": [
    "from sklearn.model_selection import GridSearchCV\n",
    "\n",
    "#-1 jobs means it uses all processors, cv-3-fold cross validation in this case\n",
    "model_RF = GridSearchCV(clf,param_grid=params_RF, cv=3,n_jobs=-1, scoring='roc_auc')\n",
    "\n",
    "#The fit is now run with the optimized parameters\n",
    "model_RF.fit(X_train,y_train)"
   ]
  },
  {
   "cell_type": "code",
   "execution_count": 15,
   "metadata": {},
   "outputs": [],
   "source": [
    "#predicting estimators with optimized parameters\n",
    "y_train_pred_RF = model_RF.predict(X_train)\n",
    "y_test_pred_RF = model_RF.predict(X_test)"
   ]
  },
  {
   "cell_type": "markdown",
   "metadata": {},
   "source": [
    "### d) Performance metrics for training"
   ]
  },
  {
   "cell_type": "code",
   "execution_count": 16,
   "metadata": {},
   "outputs": [
    {
     "name": "stdout",
     "output_type": "stream",
     "text": [
      "              precision    recall  f1-score   support\n",
      "\n",
      "           0       0.96      1.00      0.98    199020\n",
      "           1       1.00      0.96      0.98    199020\n",
      "\n",
      "    accuracy                           0.98    398040\n",
      "   macro avg       0.98      0.98      0.98    398040\n",
      "weighted avg       0.98      0.98      0.98    398040\n",
      "\n"
     ]
    }
   ],
   "source": [
    "from sklearn.metrics import classification_report\n",
    "\n",
    "print(classification_report(y_train, y_train_pred_RF))"
   ]
  },
  {
   "cell_type": "code",
   "execution_count": 54,
   "metadata": {},
   "outputs": [
    {
     "data": {
      "image/png": "[encoded data removed]",
      "text/plain": [
       "<Figure size 360x360 with 1 Axes>"
      ]
     },
     "metadata": {
      "needs_background": "light"
     },
     "output_type": "display_data"
    }
   ],
   "source": [
    "conf_mat(y_train,y_train_pred_RF,\"Confusion Matrix for optimized RFS\")"
   ]
  },
  {
   "cell_type": "code",
   "execution_count": 68,
   "metadata": {},
   "outputs": [
    {
     "name": "stdout",
     "output_type": "stream",
     "text": [
      "AUC - Train Set: 97.98%\n"
     ]
    }
   ],
   "source": [
    "from sklearn.metrics import roc_auc_score, roc_curve\n",
    "auc = roc_auc_score(y_train, y_train_pred_RF)\n",
    "print('AUC - Train Set: %.2f%%' % (auc*100))"
   ]
  },
  {
   "cell_type": "markdown",
   "metadata": {},
   "source": [
    "## Technique 2 - Decision Trees"
   ]
  },
  {
   "attachments": {
    "decisiontree.PNG": {
     "image/png": "[encoded data removed]"
    }
   },
   "cell_type": "markdown",
   "metadata": {},
   "source": [
    "### a) Discuss your motivation for choosing the technique and  provide a schematic figure of the process\n",
    "\n",
    "100-200 words\n",
    "\n",
    "Decision trees are supervised machine learning algorithms which splits the data continuously according to a certain parameter. It can also handle both classification and regression problems like random forest classifier. This algorithm is also done to compare performance and feature selection with the random classifier algorithm employed earlier. This algorithm is also robust to outliers which are found in this dataset. It is also quicker to train the model as compared to random forest as it generates only one tree and not a group of trees like the latter. This is not based on a bagging method like Random Forest classifier. Decision trees also deal with non-linear variables very well as non-linearity does not affect its performance. Some variables in this dataset displayed a non-gaussian distribution and hence were infered to be non-linear.\n",
    "\n",
    "The model with default parameters was trained with the given data and the mean accuracy on test data and labels was found out and confusion matrix plotted. The most important attribute to make decisions was found out with the help of gini index and the top 5 were plotted according to importance. Parameters were then defined and optimized with the help of GridSearchCV. Finally, performance metrics were measured using confusion matrix, accuracy, precision, recall, F-1 scores and ROC curves.\n",
    "\n",
    "![decisiontree.PNG](attachment:decisiontree.PNG)"
   ]
  },
  {
   "cell_type": "markdown",
   "metadata": {},
   "source": [
    "Enter the correct code in the cells below to execute each of the stated sub-tasks.\n",
    "### b) Setting hyper parameters with rationale\n"
   ]
  },
  {
   "cell_type": "code",
   "execution_count": 56,
   "metadata": {},
   "outputs": [
    {
     "data": {
      "text/plain": [
       "0.9974837025853494"
      ]
     },
     "execution_count": 56,
     "metadata": {},
     "output_type": "execute_result"
    }
   ],
   "source": [
    "#Decision tree classifiers onto sub samples of the dataset\n",
    "from sklearn.tree import DecisionTreeClassifier\n",
    "\n",
    "DT = dt_classifier = DecisionTreeClassifier()\n",
    "\n",
    "#build forest of trees from training set x-train and y-train\n",
    "DT.fit(X_train, y_train)\n",
    "\n",
    "#predict class for X\n",
    "pred = DT.predict(X_test)\n",
    "\n",
    "#mean accuracy on given test data and labels\n",
    "score = DT.score(X_test,y_test)\n",
    "score"
   ]
  },
  {
   "cell_type": "code",
   "execution_count": 57,
   "metadata": {
    "scrolled": true
   },
   "outputs": [
    {
     "data": {
      "text/plain": [
       "<AxesSubplot:>"
      ]
     },
     "execution_count": 57,
     "metadata": {},
     "output_type": "execute_result"
    },
    {
     "data": {
      "image/png": "[encoded data removed]",
      "text/plain": [
       "<Figure size 432x288 with 1 Axes>"
      ]
     },
     "metadata": {
      "needs_background": "light"
     },
     "output_type": "display_data"
    }
   ],
   "source": [
    "#calculate gini importance. computed as the normalized total reduction of the criterion brought by the feature\n",
    "#feat_importances = pd.Series(LR.feature_importances_, index=data.drop('Class',axis=1).columns)\n",
    "\n",
    "feat_importances = pd.Series(DT.feature_importances_, index=data.drop('Class',axis=1).columns)\n",
    "feat_importances.nlargest(5).plot(kind='barh')"
   ]
  },
  {
   "cell_type": "code",
   "execution_count": 88,
   "metadata": {},
   "outputs": [],
   "source": [
    "##Decision Tree Classifier with parameters defined\n",
    "dtf = DecisionTreeClassifier(random_state=42)\n",
    "params_DT = {\n",
    "        \"max_depth\":[50],\n",
    "        \"criterion\":[\"gini\", \"entropy\"],\n",
    "        'min_samples_split': [2,4,6],\n",
    "        \"min_samples_leaf\":[1,2,3],\n",
    "}"
   ]
  },
  {
   "cell_type": "markdown",
   "metadata": {},
   "source": [
    "### c) Optimising hyper parameters\n"
   ]
  },
  {
   "cell_type": "code",
   "execution_count": 128,
   "metadata": {},
   "outputs": [
    {
     "data": {
      "text/plain": [
       "GridSearchCV(cv=3, estimator=DecisionTreeClassifier(random_state=42), n_jobs=-1,\n",
       "             param_grid={'criterion': ['gini', 'entropy'], 'max_depth': [50],\n",
       "                         'min_samples_leaf': [1, 2, 3],\n",
       "                         'min_samples_split': [2, 4, 6]},\n",
       "             scoring='roc_auc')"
      ]
     },
     "execution_count": 128,
     "metadata": {},
     "output_type": "execute_result"
    }
   ],
   "source": [
    "from sklearn.model_selection import GridSearchCV\n",
    "\n",
    "#-1 jobs means it uses all processors, cv-3-fold cross validation in this case\n",
    "model_DT = GridSearchCV(dtf, param_grid = params_DT, cv = 3, n_jobs=-1, scoring='roc_auc')\n",
    "\n",
    "#The fit is now run with the optimized parameters\n",
    "model_DT.fit(X_train,y_train)\n",
    "\n",
    "#logr = model_DT.best_estimator_ \n",
    "#model_DT.best_params_, model_DT.best_score_"
   ]
  },
  {
   "cell_type": "code",
   "execution_count": 129,
   "metadata": {},
   "outputs": [],
   "source": [
    "#predicting estimators with optimized parameters\n",
    "y_train_pred_DT = model_DT.predict(X_train)\n",
    "y_test_pred_DT = model_DT.predict(X_test)"
   ]
  },
  {
   "cell_type": "markdown",
   "metadata": {},
   "source": [
    "### d) Performance metrics for training"
   ]
  },
  {
   "cell_type": "code",
   "execution_count": 130,
   "metadata": {},
   "outputs": [
    {
     "name": "stdout",
     "output_type": "stream",
     "text": [
      "              precision    recall  f1-score   support\n",
      "\n",
      "           0       1.00      1.00      1.00    199020\n",
      "           1       1.00      1.00      1.00    199020\n",
      "\n",
      "    accuracy                           1.00    398040\n",
      "   macro avg       1.00      1.00      1.00    398040\n",
      "weighted avg       1.00      1.00      1.00    398040\n",
      "\n"
     ]
    }
   ],
   "source": [
    "from sklearn.metrics import classification_report\n",
    "\n",
    "print(classification_report(y_train, y_train_pred_DT))"
   ]
  },
  {
   "cell_type": "code",
   "execution_count": 131,
   "metadata": {},
   "outputs": [
    {
     "data": {
      "image/png": "[encoded data removed]",
      "text/plain": [
       "<Figure size 360x360 with 1 Axes>"
      ]
     },
     "metadata": {
      "needs_background": "light"
     },
     "output_type": "display_data"
    }
   ],
   "source": [
    "conf_mat(y_train,y_train_pred_DT,\"Confusion Matrix for optimized DT\")"
   ]
  },
  {
   "cell_type": "code",
   "execution_count": 132,
   "metadata": {},
   "outputs": [
    {
     "name": "stdout",
     "output_type": "stream",
     "text": [
      "AUC - Train Set: 99.98%\n"
     ]
    }
   ],
   "source": [
    "from sklearn.metrics import roc_auc_score, roc_curve\n",
    "auc = roc_auc_score(y_train, y_train_pred_DT)\n",
    "print('AUC - Train Set: %.2f%%' % (auc*100))"
   ]
  },
  {
   "cell_type": "markdown",
   "metadata": {},
   "source": [
    "## 5. Technique 3 - Naive Bayes (20 marks)"
   ]
  },
  {
   "attachments": {
    "naivebayes.PNG": {
     "image/png": "[encoded data removed]"
    }
   },
   "cell_type": "markdown",
   "metadata": {},
   "source": [
    "### a) Discuss your motivation for choosing the technique and  provide a schematic figure of the process\n",
    "\n",
    "100-200 words\n",
    "\n",
    "Naive Bayes is a supervised learning algorithm used for predictive modelling and supports both multiclass and binary classifications. Gaussian Naive Bayes was used for this dataset since it supports continuous values and the target variable if of boolean form, supporting binary classification. It also assumes that each feature is normally distributed, since this is not the case in a real world situation, the data is modified accordingly to train the model. Naive Bayes is a quick learner as it requires less training data and is a faster classifier for large datasets such as this one. It was used to comply with limited time and processing resources. This algorithm assumes that all features in a dataset are independent of each other and gives each feature equal importance. Naive Bayes algorithm has been found to perform well on continuously changing real world data-sets such as credit card data.\n",
    "\n",
    "The model with default parameters was trained with the given data and the mean accuracy on test data and labels was found out and confusion matrix plotted. The most important attribute to make decisions was found out with the help of gini index and the top 5 were plotted according to importance. Parameters were then defined and optimized with the help of GridSearchCV. Finally, performance metrics were measured using confusion matrix, accuracy, precision, recall, F-1 scores and ROC curves.\n",
    "\n",
    "![naivebayes.PNG](attachment:naivebayes.PNG)"
   ]
  },
  {
   "cell_type": "markdown",
   "metadata": {},
   "source": [
    "Enter the correct code in the cells below to execute each of the stated sub-tasks.\n",
    "### b) Setting hyper parameters with rationale\n"
   ]
  },
  {
   "cell_type": "code",
   "execution_count": 94,
   "metadata": {},
   "outputs": [
    {
     "data": {
      "text/plain": [
       "0.9810633989911403"
      ]
     },
     "execution_count": 94,
     "metadata": {},
     "output_type": "execute_result"
    }
   ],
   "source": [
    "#Logistic Regression\n",
    "from sklearn.naive_bayes import GaussianNB\n",
    "\n",
    "NB = GaussianNB()\n",
    "\n",
    "#build forest of trees from training set x-train and y-train\n",
    "NB.fit(X_train, y_train)\n",
    "\n",
    "#predict class for X\n",
    "pred = NB.predict(X_test)\n",
    "\n",
    "#mean accuracy on given test data and labels\n",
    "score = NB.score(X_test,y_test)\n",
    "score"
   ]
  },
  {
   "cell_type": "markdown",
   "metadata": {},
   "source": [
    "Naive Bayes algorithm does not have a feature importance attribute since it works by determining conditional and unconditional probabilities assosciated with features. This also makes it faster since no coefficients are needed to be fitted by GridSearchCV."
   ]
  },
  {
   "cell_type": "code",
   "execution_count": 98,
   "metadata": {},
   "outputs": [],
   "source": [
    "##Decision Tree Classifier with parameters defined\n",
    "nbc = GaussianNB()\n",
    "params_NB = {'var_smoothing': np.logspace(0,-9, num=100)}"
   ]
  },
  {
   "cell_type": "markdown",
   "metadata": {},
   "source": [
    "### c) Optimising hyper parameters\n"
   ]
  },
  {
   "cell_type": "markdown",
   "metadata": {},
   "source": [
    "Naive Bayes algorithm uses variance smoothing for stability of calculation. This algorithm assumes that all features follow normal distribution, which is unlikely for real world situations. Power transformation is used to   make features more or less normally distributed."
   ]
  },
  {
   "cell_type": "code",
   "execution_count": 109,
   "metadata": {},
   "outputs": [
    {
     "data": {
      "text/plain": [
       "GridSearchCV(cv=3, estimator=GaussianNB(), n_jobs=-1,\n",
       "             param_grid={'var_smoothing': array([1.00000000e+00, 8.11130831e-01, 6.57933225e-01, 5.33669923e-01,\n",
       "       4.32876128e-01, 3.51119173e-01, 2.84803587e-01, 2.31012970e-01,\n",
       "       1.87381742e-01, 1.51991108e-01, 1.23284674e-01, 1.00000000e-01,\n",
       "       8.11130831e-02, 6.57933225e-02, 5.33669923e-02, 4.32876128e-02,\n",
       "       3.51119173e-02, 2.8480358...\n",
       "       1.23284674e-07, 1.00000000e-07, 8.11130831e-08, 6.57933225e-08,\n",
       "       5.33669923e-08, 4.32876128e-08, 3.51119173e-08, 2.84803587e-08,\n",
       "       2.31012970e-08, 1.87381742e-08, 1.51991108e-08, 1.23284674e-08,\n",
       "       1.00000000e-08, 8.11130831e-09, 6.57933225e-09, 5.33669923e-09,\n",
       "       4.32876128e-09, 3.51119173e-09, 2.84803587e-09, 2.31012970e-09,\n",
       "       1.87381742e-09, 1.51991108e-09, 1.23284674e-09, 1.00000000e-09])},\n",
       "             scoring='roc_auc')"
      ]
     },
     "execution_count": 109,
     "metadata": {},
     "output_type": "execute_result"
    }
   ],
   "source": [
    "from sklearn.model_selection import GridSearchCV\n",
    "from sklearn.preprocessing import PowerTransformer\n",
    "\n",
    "#-1 jobs means it uses all processors, cv-3-fold cross validation in this case\n",
    "model_NB = GridSearchCV(nbc, param_grid = params_NB, cv = 3, n_jobs=-1, scoring='roc_auc')\n",
    "\n",
    "Data_train = PowerTransformer().fit_transform(X_train)\n",
    "Data_test = PowerTransformer().fit_transform(X_test)\n",
    "\n",
    "#The fit is now run with the optimized parameters\n",
    "model_NB.fit(Data_train,y_train)\n",
    "\n",
    "#logr = model_DT.best_estimator_ \n",
    "#model_NB.best_params_, model_DT.best_score_"
   ]
  },
  {
   "cell_type": "code",
   "execution_count": 110,
   "metadata": {},
   "outputs": [],
   "source": [
    "#predicting estimators with optimized parameters\n",
    "y_train_pred_NB = model_NB.predict(Data_train)\n",
    "y_test_pred_NB = model_NB.predict(Data_test)"
   ]
  },
  {
   "cell_type": "markdown",
   "metadata": {},
   "source": [
    "### d) Performance metrics for training"
   ]
  },
  {
   "cell_type": "code",
   "execution_count": 111,
   "metadata": {},
   "outputs": [
    {
     "name": "stdout",
     "output_type": "stream",
     "text": [
      "              precision    recall  f1-score   support\n",
      "\n",
      "           0       0.84      1.00      0.91    199020\n",
      "           1       1.00      0.81      0.90    199020\n",
      "\n",
      "    accuracy                           0.91    398040\n",
      "   macro avg       0.92      0.91      0.90    398040\n",
      "weighted avg       0.92      0.91      0.90    398040\n",
      "\n"
     ]
    }
   ],
   "source": [
    "from sklearn.metrics import classification_report\n",
    "\n",
    "print(classification_report(y_train, y_train_pred_NB))"
   ]
  },
  {
   "cell_type": "code",
   "execution_count": 112,
   "metadata": {
    "scrolled": false
   },
   "outputs": [
    {
     "data": {
      "image/png": "[encoded data removed]",
      "text/plain": [
       "<Figure size 360x360 with 1 Axes>"
      ]
     },
     "metadata": {
      "needs_background": "light"
     },
     "output_type": "display_data"
    }
   ],
   "source": [
    "conf_mat(y_train,y_train_pred_NB,\"Confusion Matrix for optimized NB\")"
   ]
  },
  {
   "cell_type": "code",
   "execution_count": 113,
   "metadata": {},
   "outputs": [
    {
     "name": "stdout",
     "output_type": "stream",
     "text": [
      "AUC - Train Set: 90.50%\n"
     ]
    }
   ],
   "source": [
    "from sklearn.metrics import roc_auc_score, roc_curve\n",
    "auc = roc_auc_score(y_train, y_train_pred_NB)\n",
    "print('AUC - Train Set: %.2f%%' % (auc*100))"
   ]
  },
  {
   "cell_type": "markdown",
   "metadata": {},
   "source": [
    "## 6. Comparison of metrics performance for testing (16 marks)\n",
    "Enter the correct code in the cells below to execute each of the stated sub-tasks. \n"
   ]
  },
  {
   "cell_type": "markdown",
   "metadata": {},
   "source": [
    "### a) Use of cross validation for both techniques to deal with over-fitting"
   ]
  },
  {
   "cell_type": "code",
   "execution_count": null,
   "metadata": {},
   "outputs": [],
   "source": [
    "#Cross validation with 3 folds was performed with GridSearchCV "
   ]
  },
  {
   "cell_type": "markdown",
   "metadata": {},
   "source": [
    "### b) Comparison with appropriate metrics for testing"
   ]
  },
  {
   "cell_type": "markdown",
   "metadata": {},
   "source": [
    "##### Random Forest"
   ]
  },
  {
   "cell_type": "code",
   "execution_count": 63,
   "metadata": {},
   "outputs": [
    {
     "name": "stdout",
     "output_type": "stream",
     "text": [
      "              precision    recall  f1-score   support\n",
      "\n",
      "           0       1.00      1.00      1.00     85295\n",
      "           1       0.29      0.84      0.43       148\n",
      "\n",
      "    accuracy                           1.00     85443\n",
      "   macro avg       0.64      0.92      0.71     85443\n",
      "weighted avg       1.00      1.00      1.00     85443\n",
      "\n"
     ]
    }
   ],
   "source": [
    "##RANDOM FOREST TREE TEST METRICS\n",
    "from sklearn.metrics import classification_report\n",
    "\n",
    "print(classification_report(y_test, y_test_pred_RF))"
   ]
  },
  {
   "cell_type": "code",
   "execution_count": 92,
   "metadata": {},
   "outputs": [
    {
     "data": {
      "image/png": "[encoded data removed]",
      "text/plain": [
       "<Figure size 360x360 with 1 Axes>"
      ]
     },
     "metadata": {
      "needs_background": "light"
     },
     "output_type": "display_data"
    }
   ],
   "source": [
    "conf_mat(y_test, y_test_pred_RF,\"Confusion Matrix for optimised Random Forest\")"
   ]
  },
  {
   "cell_type": "markdown",
   "metadata": {},
   "source": [
    "#### Decision Tree"
   ]
  },
  {
   "cell_type": "code",
   "execution_count": 133,
   "metadata": {},
   "outputs": [
    {
     "name": "stdout",
     "output_type": "stream",
     "text": [
      "              precision    recall  f1-score   support\n",
      "\n",
      "           0       1.00      1.00      1.00     85295\n",
      "           1       0.41      0.78      0.54       148\n",
      "\n",
      "    accuracy                           1.00     85443\n",
      "   macro avg       0.70      0.89      0.77     85443\n",
      "weighted avg       1.00      1.00      1.00     85443\n",
      "\n"
     ]
    }
   ],
   "source": [
    "##DECISION TREE TEST METRICS\n",
    "from sklearn.metrics import classification_report\n",
    "\n",
    "print(classification_report(y_test, y_test_pred_DT))"
   ]
  },
  {
   "cell_type": "code",
   "execution_count": 134,
   "metadata": {},
   "outputs": [
    {
     "data": {
      "image/png": "[encoded data removed]",
      "text/plain": [
       "<Figure size 360x360 with 1 Axes>"
      ]
     },
     "metadata": {
      "needs_background": "light"
     },
     "output_type": "display_data"
    }
   ],
   "source": [
    "conf_mat(y_test, y_test_pred_DT,\"Confusion Matrix for optimized Decision Tree\")"
   ]
  },
  {
   "cell_type": "markdown",
   "metadata": {},
   "source": [
    "##### Naive Bayes"
   ]
  },
  {
   "cell_type": "code",
   "execution_count": 118,
   "metadata": {},
   "outputs": [
    {
     "name": "stdout",
     "output_type": "stream",
     "text": [
      "              precision    recall  f1-score   support\n",
      "\n",
      "           0       1.00      0.82      0.90     85295\n",
      "           1       0.01      0.94      0.02       148\n",
      "\n",
      "    accuracy                           0.82     85443\n",
      "   macro avg       0.50      0.88      0.46     85443\n",
      "weighted avg       1.00      0.82      0.90     85443\n",
      "\n"
     ]
    }
   ],
   "source": [
    "##GAUSSIAN TEST METRICS\n",
    "from sklearn.metrics import classification_report\n",
    "\n",
    "print(classification_report(y_test, y_test_pred_NB))"
   ]
  },
  {
   "cell_type": "code",
   "execution_count": 138,
   "metadata": {},
   "outputs": [
    {
     "data": {
      "image/png": "[encoded data removed]",
      "text/plain": [
       "<Figure size 360x360 with 1 Axes>"
      ]
     },
     "metadata": {
      "needs_background": "light"
     },
     "output_type": "display_data"
    }
   ],
   "source": [
    "conf_mat(y_test, y_test_pred_NB,\"Confusion Matrix for optimized Naive Bayes\")"
   ]
  },
  {
   "cell_type": "markdown",
   "metadata": {},
   "source": [
    "### c) Model selection (ROC or other charts)"
   ]
  },
  {
   "cell_type": "markdown",
   "metadata": {},
   "source": [
    "##### Random Forest"
   ]
  },
  {
   "cell_type": "code",
   "execution_count": 20,
   "metadata": {},
   "outputs": [
    {
     "name": "stdout",
     "output_type": "stream",
     "text": [
      "AUC - Test Set: 92.05%\n"
     ]
    }
   ],
   "source": [
    "from sklearn.metrics import roc_auc_score, roc_curve\n",
    "auc = roc_auc_score(y_test, y_test_pred_RF)\n",
    "print('AUC - Test Set: %.2f%%' % (auc*100))"
   ]
  },
  {
   "cell_type": "code",
   "execution_count": 21,
   "metadata": {},
   "outputs": [],
   "source": [
    "probRF = model_RF.predict_proba(X_test)"
   ]
  },
  {
   "cell_type": "code",
   "execution_count": 22,
   "metadata": {},
   "outputs": [
    {
     "data": {
      "image/png": "[encoded data removed]",
      "text/plain": [
       "<Figure size 432x288 with 1 Axes>"
      ]
     },
     "metadata": {
      "needs_background": "light"
     },
     "output_type": "display_data"
    }
   ],
   "source": [
    "# calculate roc curve\n",
    "fpr, tpr, thresholds = roc_curve(y_test, probRF[:,1])\n",
    "# plot no skill\n",
    "plt.plot([0, 1], [0, 1], linestyle='--', label = 'No skill')\n",
    "# plot the roc curve for the model\n",
    "plt.plot(fpr, tpr, marker='.', label = 'DT')\n",
    "# show the plot\n",
    "plt.xlabel('false positive rate')\n",
    "plt.ylabel('true positive rate')\n",
    "plt.title('ROC curve for RF classifier')\n",
    "plt.legend()\n",
    "plt.show()"
   ]
  },
  {
   "cell_type": "markdown",
   "metadata": {},
   "source": [
    "##### Decision Tree"
   ]
  },
  {
   "cell_type": "code",
   "execution_count": 135,
   "metadata": {},
   "outputs": [
    {
     "name": "stdout",
     "output_type": "stream",
     "text": [
      "AUC - Test Set: 89.09%\n"
     ]
    }
   ],
   "source": [
    "from sklearn.metrics import roc_auc_score, roc_curve\n",
    "auc = roc_auc_score(y_test, y_test_pred_DT)\n",
    "print('AUC - Test Set: %.2f%%' % (auc*100))"
   ]
  },
  {
   "cell_type": "code",
   "execution_count": 136,
   "metadata": {},
   "outputs": [],
   "source": [
    "probDT = model_DT.predict_proba(X_test)"
   ]
  },
  {
   "cell_type": "code",
   "execution_count": 137,
   "metadata": {},
   "outputs": [
    {
     "data": {
      "image/png": "[encoded data removed]",
      "text/plain": [
       "<Figure size 432x288 with 1 Axes>"
      ]
     },
     "metadata": {
      "needs_background": "light"
     },
     "output_type": "display_data"
    }
   ],
   "source": [
    "# calculate roc curve\n",
    "fpr, tpr, thresholds = roc_curve(y_test, probDT[:,1])\n",
    "# plot no skill\n",
    "plt.plot([0, 1], [0, 1], linestyle='--', label = 'No skill')\n",
    "# plot the roc curve for the model\n",
    "plt.plot(fpr, tpr, marker='.', label = 'DT')\n",
    "# show the plot\n",
    "plt.xlabel('false positive rate')\n",
    "plt.ylabel('true positive rate')\n",
    "plt.title('ROC curve for DT classifier')\n",
    "plt.legend()\n",
    "plt.show()"
   ]
  },
  {
   "cell_type": "markdown",
   "metadata": {},
   "source": [
    "##### Naive Bayes"
   ]
  },
  {
   "cell_type": "code",
   "execution_count": 122,
   "metadata": {},
   "outputs": [
    {
     "name": "stdout",
     "output_type": "stream",
     "text": [
      "AUC - Test Set: 88.01%\n"
     ]
    }
   ],
   "source": [
    "from sklearn.metrics import roc_auc_score, roc_curve\n",
    "auc = roc_auc_score(y_test, y_test_pred_NB)\n",
    "print('AUC - Test Set: %.2f%%' % (auc*100))"
   ]
  },
  {
   "cell_type": "code",
   "execution_count": 123,
   "metadata": {},
   "outputs": [],
   "source": [
    "probNB = model_NB.predict_proba(Data_test)"
   ]
  },
  {
   "cell_type": "code",
   "execution_count": 124,
   "metadata": {},
   "outputs": [
    {
     "data": {
      "image/png": "[encoded data removed]",
      "text/plain": [
       "<Figure size 432x288 with 1 Axes>"
      ]
     },
     "metadata": {
      "needs_background": "light"
     },
     "output_type": "display_data"
    }
   ],
   "source": [
    "# calculate roc curve\n",
    "fpr, tpr, thresholds = roc_curve(y_test, probNB[:,1])\n",
    "# plot no skill\n",
    "plt.plot([0, 1], [0, 1], linestyle='--', label = 'No skill')\n",
    "# plot the roc curve for the model\n",
    "plt.plot(fpr, tpr, marker='.', label = 'NB')\n",
    "# show the plot\n",
    "plt.xlabel('false positive rate')\n",
    "plt.ylabel('true positive rate')\n",
    "plt.title('ROC curve for NB classifier')\n",
    "plt.legend()\n",
    "plt.show()"
   ]
  },
  {
   "cell_type": "markdown",
   "metadata": {},
   "source": [
    "## 7. Final recommendation of best model (8 marks)"
   ]
  },
  {
   "cell_type": "markdown",
   "metadata": {},
   "source": [
    "### a) Discuss the results from a technical perspective, for example, overfitting discussion, complexity and efficiency\n",
    "\n",
    "100-200 words\n",
    "\n",
    "Performance metrics, namely, accuracy score, precision score, recall score, f1 score, roc graph, auc score and confusion matrix were used to compare and identify the best model for detecting credit card fraud. In this case the cost of false negative would be higher than the cost of false positive so a model with a high recall score would be prefered. Other evaluation metrics would be used to analyze the models. Accuracy would not be the best metric to consider due to the highly imbalanced nature of the dataset. The inferences made for train and test set results were as below:\n",
    "\n",
    "Random Forest\n",
    "For train set, normal transactions precision was 0.96 and recall was 1 while for fraudulent transactions, precision was 1 and recall was 0.96. This means that normal transactions were slightly better predicted than fraudulent ones. Similarily, for the test set, normal transactions had a precision and recall of 1 while fraudulent transactions had a precision of 0.29 and recall of 0.84. Due to this imbalance in scores the F-1 score for fraud transactions also dropped in test metrics. The auc score was 92.05% for the test set. This summarizes the area under the ROC curve and would be used as the main metric for model comparison.\n",
    "This model utilizes the most processing power and time out of all as it uses bootstrapping on a forest of trees to find the best class. This model also avoids overfitting to an extent and had the highest test set accuracy (1.00) among others.\n",
    "\n",
    "Decision Tree\n",
    "It was observed that the train set overfit while using decision tree as perfect precision, recall, auc and f-1 scores were obtained during training. This can affect test scores as it failed to find patterns in the train set. There were no change in the results after reducing the depth of the tree. It performed fairly well on the test set with precision of 0.41 and recall of 0.78, giving an f-1 score of 0.54. The auc score was 89.09%, less than Random Forest. This model was faster than random forest but not as accurate since it employs the use of a singular decision tree to classify.\n",
    "\n",
    "Naive Bayes\n",
    "This algorithm assumes that all features are independent of each other and have normal distributions. Since this is not the case, further methods were applied before training to transform data into normal distributions. Therefore, more pre-processing was needed for this algorithm. It took the least time in training and classifying owing to its simplistic nature. It was noticed that the precison and recall scores for fraudulent transactions were extremely low and high respectively, resulting in an F-1 score of 0.02. The auc score of 88.01% was the least.\n",
    "\n",
    "All models had similar ROC curves (the more it bends towarsd the top left corner the better the model). Decision tree had the best balance between precision and recall.\n",
    "\n",
    "Ultimately from a technical perspective, Random Forest woud be recommended as long as there is sufficent processing power and time at hand otherwise a decision tree can be used."
   ]
  },
  {
   "cell_type": "markdown",
   "metadata": {},
   "source": [
    "### b) Discuss the results from a business perspective, for example, results interpretation, relevance and balance with technical perspective\n",
    "\n",
    "100-200 words\n",
    "\n",
    "Different models such as Random Forest, Decision tree and Naive Bayes were utilised to predict which transactions were fraud. According to the business model, not being able to identify a fraudulent transaction (false negatives) would cost more and harm the banks reputation. Therefore the goal is to minimize the number of false negatives and if possible the number of false positives with it. \n",
    "\n",
    "The confusion matrix indicates that Naive Bayes predicts the lowest number of false negatives, followed by random forest and then decision tree. It also predicts the most number of false positives(15275) followed by random forest and decision tree.  Taking only the the goal to minimize false negatives into account, Naive Bayes would be better but Random Forest provides the best overall balance between precison and recall. The total cost to the bank solely based on cost of predicting false negative and false positive, based on the confusion matrix was calculated. Decision tree was the cheapest option, followed by random forest. naive bayes cost the most due to it extremely low number of false negatives and extremely high number of false negatives. If cost is the only concern then Decision Tree should be chosen.\n",
    "\n",
    "Other business aspects that could be factors in the model selection process are processing resources and time to run the above models on larger datasets. Random Forest would take the most amount of resources but shows less chances of overfitting on training data. Overall, if processing power and time are not of concern then Random Forest can be used since it has better overall performance metrics and would perform well on larger datasets."
   ]
  },
  {
   "cell_type": "markdown",
   "metadata": {},
   "source": [
    "## 8. Conclusion (8 marks)"
   ]
  },
  {
   "cell_type": "markdown",
   "metadata": {},
   "source": [
    "### a) What has been successfully accomplished and what has not been successful?\n",
    "100-300 words\n",
    "\n",
    "Exploratory analysis of the dataset and making inferences were successfully accomplished. It was inferred that variables of fraudulent transactions had a skewed distribution when compared to normal transactions.\n",
    "Feature reduction was carried out with the help of plotting and comparing distributions of normal and fraudulent transactions. Preprocessing was carried out successfully and class imbalance was handled using under sampling and over sampling methods. 3 techniques were successfully explored and further pre processing of data was caried out specific to each technique. The overall efficiency of ensemble methods and lazy learner were compared and the best model was recommended. The business restrictions allow a budget of 20k for each 100m of non fraudulent transactions, since there isn't that much worth in the dataset the cost of model exceeds the set budget. Similarily for the amount of fraudulent transactions, there isn't 200k worth in the dataset. Unfortunately, the models were unable to comply to the budget restrictions set by the bank and more work would be required to improve the models or set a realistic budget."
   ]
  },
  {
   "cell_type": "markdown",
   "metadata": {},
   "source": [
    "### b) Reflecting back on the analysis, what could you have done differently if you were to do the project again?\n",
    "\n",
    "100-300 words\n",
    "\n",
    "In hindsight, more resampling and rescaling methods could have been explored and employed. Various methods for feature selection could have been explored such as wrapper (recursive feature elimination) and filter methods. Plots such as box plots could've been used for exploratory analysis to make further inferences and identify patterns. Most importantly, less process and time intensive algorithms could have been used to facilitate repeated code changes. Methods to avoid overfitting could have been explored. Logistic Regression and SVM algorithms could have been experimented with by hypertuning parameters. Algorithms like KNN and Logistic Regression were attempted but yielded contrasting and odd results, it would be interesting to work on them more by experimenting with different pre-processing techniques. Additionally, model accuracy could be experimented with by dropping duplicated values and comparing to model accuracy without dropping duplicate values. A similar process could have been done for outliers and compared. \n"
   ]
  },
  {
   "cell_type": "markdown",
   "metadata": {},
   "source": [
    "### c) Provide a wish list of future work that you would like to do\n",
    "\n",
    "100-200 words\n",
    "\n",
    "I would like to explore the performance of non-linear algorithms such as KNN, Artificial Neural Networks, Support Vector Machines and compare it to the performance of ensemble algorithms such as stochastic gradient boosting, extra trees and so on. Trying to figure out different ways to deal with imbalanced datasets (other than SMOTE) like this one could also prove to be quite interesting. I would also like to work on finding different methods to analyse feature importance during the exploratory analysis stage. Analysing how different training and test splits change the results could help identify the ideal test split for large and imbalanced datasets. Furthermore, I would also like to investigate how big of a role factors like name of the bank, time of transaction, country etc play in a fraudulent transaction."
   ]
  },
  {
   "cell_type": "code",
   "execution_count": null,
   "metadata": {},
   "outputs": [],
   "source": []
  }
 ],
 "metadata": {
  "kernelspec": {
   "display_name": "Python 3",
   "language": "python",
   "name": "python3"
  },
  "language_info": {
   "codemirror_mode": {
    "name": "ipython",
    "version": 3
   },
   "file_extension": ".py",
   "mimetype": "text/x-python",
   "name": "python",
   "nbconvert_exporter": "python",
   "pygments_lexer": "ipython3",
   "version": "3.8.8"
  }
 },
 "nbformat": 4,
 "nbformat_minor": 2
}
